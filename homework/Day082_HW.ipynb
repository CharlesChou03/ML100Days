{
 "cells": [
  {
   "cell_type": "markdown",
   "metadata": {},
   "source": [
    "## Work\n",
    "1. 請比較使用不同層數以及不同 Dropout rate 對訓練的效果\n",
    "2. 將 optimizer 改成使用 Adam 並加上適當的 dropout rate 檢視結果"
   ]
  },
  {
   "cell_type": "code",
   "execution_count": 10,
   "metadata": {},
   "outputs": [],
   "source": [
    "import os\n",
    "import keras\n",
    "import itertools\n",
    "# Disable GPU\n",
    "os.environ[\"CUDA_VISIBLE_DEVICES\"] = \"\""
   ]
  },
  {
   "cell_type": "code",
   "execution_count": 11,
   "metadata": {},
   "outputs": [],
   "source": [
    "train, test = keras.datasets.cifar10.load_data()"
   ]
  },
  {
   "cell_type": "code",
   "execution_count": 12,
   "metadata": {},
   "outputs": [],
   "source": [
    "## 資料前處理\n",
    "def preproc_x(x, flatten=True):\n",
    "    x = x / 255.\n",
    "    if flatten:\n",
    "        x = x.reshape((len(x), -1))\n",
    "    return x\n",
    "\n",
    "def preproc_y(y, num_classes=10):\n",
    "    if y.shape[-1] == 1:\n",
    "        y = keras.utils.to_categorical(y, num_classes)\n",
    "    return y    "
   ]
  },
  {
   "cell_type": "code",
   "execution_count": 13,
   "metadata": {},
   "outputs": [],
   "source": [
    "x_train, y_train = train\n",
    "x_test, y_test = test\n",
    "\n",
    "# Preproc the inputs\n",
    "x_train = preproc_x(x_train)\n",
    "x_test = preproc_x(x_test)\n",
    "\n",
    "# Preprc the outputs\n",
    "y_train = preproc_y(y_train)\n",
    "y_test = preproc_y(y_test)"
   ]
  },
  {
   "cell_type": "code",
   "execution_count": 14,
   "metadata": {},
   "outputs": [],
   "source": [
    "from keras.layers import Dropout\n",
    "\n",
    "\"\"\"\n",
    "建立神經網路，並加入 dropout layer\n",
    "\"\"\"\n",
    "def build_mlp(input_shape, output_units=10, num_neurons=[512, 256, 128, 128], drp_ratio=0.2):\n",
    "    input_layer = keras.layers.Input(input_shape)\n",
    "    \n",
    "    for i, n_units in enumerate(num_neurons):\n",
    "        if i == 0:\n",
    "            x = keras.layers.Dense(units=n_units, \n",
    "                                   activation=\"relu\", \n",
    "                                   name=\"hidden_layer\"+str(i+1))(input_layer)\n",
    "            x = Dropout(drp_ratio)(x)\n",
    "        else:\n",
    "            x = keras.layers.Dense(units=n_units, \n",
    "                                   activation=\"relu\", \n",
    "                                   name=\"hidden_layer\"+str(i+1))(x)\n",
    "            x = Dropout(drp_ratio)(x)\n",
    "    \n",
    "    out = keras.layers.Dense(units=output_units, activation=\"softmax\", name=\"output\")(x)\n",
    "    \n",
    "    model = keras.models.Model(inputs=[input_layer], outputs=[out])\n",
    "    return model\n"
   ]
  },
  {
   "cell_type": "code",
   "execution_count": 15,
   "metadata": {},
   "outputs": [],
   "source": [
    "\"\"\"Code Here\n",
    "設定超參數\n",
    "\"\"\"\n",
    "LEARNING_RATE = 1e-3\n",
    "EPOCHS = 50\n",
    "BATCH_SIZE = 256\n",
    "MOMENTUM = 0.95\n",
    "Dropout_EXP = 0.30"
   ]
  },
  {
   "cell_type": "code",
   "execution_count": 16,
   "metadata": {
    "scrolled": true
   },
   "outputs": [
    {
     "name": "stdout",
     "output_type": "stream",
     "text": [
      "Model: \"functional_3\"\n",
      "_________________________________________________________________\n",
      "Layer (type)                 Output Shape              Param #   \n",
      "=================================================================\n",
      "input_2 (InputLayer)         [(None, 3072)]            0         \n",
      "_________________________________________________________________\n",
      "hidden_layer1 (Dense)        (None, 512)               1573376   \n",
      "_________________________________________________________________\n",
      "dropout_4 (Dropout)          (None, 512)               0         \n",
      "_________________________________________________________________\n",
      "hidden_layer2 (Dense)        (None, 256)               131328    \n",
      "_________________________________________________________________\n",
      "dropout_5 (Dropout)          (None, 256)               0         \n",
      "_________________________________________________________________\n",
      "hidden_layer3 (Dense)        (None, 128)               32896     \n",
      "_________________________________________________________________\n",
      "dropout_6 (Dropout)          (None, 128)               0         \n",
      "_________________________________________________________________\n",
      "hidden_layer4 (Dense)        (None, 128)               16512     \n",
      "_________________________________________________________________\n",
      "dropout_7 (Dropout)          (None, 128)               0         \n",
      "_________________________________________________________________\n",
      "output (Dense)               (None, 10)                1290      \n",
      "=================================================================\n",
      "Total params: 1,755,402\n",
      "Trainable params: 1,755,402\n",
      "Non-trainable params: 0\n",
      "_________________________________________________________________\n",
      "Epoch 1/50\n",
      "196/196 [==============================] - 5s 26ms/step - loss: 2.1469 - accuracy: 0.1881 - val_loss: 1.9373 - val_accuracy: 0.2806\n",
      "Epoch 2/50\n",
      "196/196 [==============================] - 5s 26ms/step - loss: 1.9633 - accuracy: 0.2654 - val_loss: 1.8503 - val_accuracy: 0.3439\n",
      "Epoch 3/50\n",
      "196/196 [==============================] - 4s 23ms/step - loss: 1.9069 - accuracy: 0.2921 - val_loss: 1.7895 - val_accuracy: 0.3544\n",
      "Epoch 4/50\n",
      "196/196 [==============================] - 5s 24ms/step - loss: 1.8764 - accuracy: 0.3057 - val_loss: 1.7760 - val_accuracy: 0.3738\n",
      "Epoch 5/50\n",
      "196/196 [==============================] - 5s 24ms/step - loss: 1.8425 - accuracy: 0.3241 - val_loss: 1.7488 - val_accuracy: 0.3708\n",
      "Epoch 6/50\n",
      "196/196 [==============================] - 6s 28ms/step - loss: 1.8237 - accuracy: 0.3317 - val_loss: 1.7677 - val_accuracy: 0.3758\n",
      "Epoch 7/50\n",
      "196/196 [==============================] - 6s 31ms/step - loss: 1.8078 - accuracy: 0.3385 - val_loss: 1.7608 - val_accuracy: 0.3707\n",
      "Epoch 8/50\n",
      "196/196 [==============================] - 6s 31ms/step - loss: 1.7936 - accuracy: 0.3436 - val_loss: 1.7349 - val_accuracy: 0.3934\n",
      "Epoch 9/50\n",
      "196/196 [==============================] - 6s 32ms/step - loss: 1.7835 - accuracy: 0.3457 - val_loss: 1.6991 - val_accuracy: 0.4072\n",
      "Epoch 10/50\n",
      "196/196 [==============================] - 7s 35ms/step - loss: 1.7756 - accuracy: 0.3505 - val_loss: 1.7047 - val_accuracy: 0.4042\n",
      "Epoch 11/50\n",
      "196/196 [==============================] - 7s 34ms/step - loss: 1.7662 - accuracy: 0.3558 - val_loss: 1.7195 - val_accuracy: 0.3934\n",
      "Epoch 12/50\n",
      "196/196 [==============================] - 8s 39ms/step - loss: 1.7591 - accuracy: 0.3594 - val_loss: 1.6883 - val_accuracy: 0.4036\n",
      "Epoch 13/50\n",
      "196/196 [==============================] - 6s 32ms/step - loss: 1.7409 - accuracy: 0.3667 - val_loss: 1.6825 - val_accuracy: 0.4049\n",
      "Epoch 14/50\n",
      "196/196 [==============================] - 6s 31ms/step - loss: 1.7403 - accuracy: 0.3656 - val_loss: 1.7049 - val_accuracy: 0.4017\n",
      "Epoch 15/50\n",
      "196/196 [==============================] - 5s 27ms/step - loss: 1.7341 - accuracy: 0.3684 - val_loss: 1.6661 - val_accuracy: 0.4131\n",
      "Epoch 16/50\n",
      "196/196 [==============================] - 5s 27ms/step - loss: 1.7227 - accuracy: 0.3746 - val_loss: 1.6461 - val_accuracy: 0.4166\n",
      "Epoch 17/50\n",
      "196/196 [==============================] - 6s 31ms/step - loss: 1.7244 - accuracy: 0.3730 - val_loss: 1.6550 - val_accuracy: 0.4164\n",
      "Epoch 18/50\n",
      "196/196 [==============================] - 6s 28ms/step - loss: 1.7233 - accuracy: 0.3752 - val_loss: 1.6556 - val_accuracy: 0.4086\n",
      "Epoch 19/50\n",
      "196/196 [==============================] - 5s 28ms/step - loss: 1.7086 - accuracy: 0.3776 - val_loss: 1.6566 - val_accuracy: 0.4179\n",
      "Epoch 20/50\n",
      "196/196 [==============================] - 6s 29ms/step - loss: 1.7172 - accuracy: 0.3768 - val_loss: 1.6481 - val_accuracy: 0.4170\n",
      "Epoch 21/50\n",
      "196/196 [==============================] - 5s 27ms/step - loss: 1.7120 - accuracy: 0.3791 - val_loss: 1.6422 - val_accuracy: 0.4195\n",
      "Epoch 22/50\n",
      "196/196 [==============================] - 5s 26ms/step - loss: 1.6994 - accuracy: 0.3833 - val_loss: 1.6070 - val_accuracy: 0.4328\n",
      "Epoch 23/50\n",
      "196/196 [==============================] - 5s 28ms/step - loss: 1.6999 - accuracy: 0.3834 - val_loss: 1.6714 - val_accuracy: 0.4076\n",
      "Epoch 24/50\n",
      "196/196 [==============================] - 5s 27ms/step - loss: 1.7035 - accuracy: 0.3805 - val_loss: 1.6336 - val_accuracy: 0.4177\n",
      "Epoch 25/50\n",
      "196/196 [==============================] - 5s 27ms/step - loss: 1.6865 - accuracy: 0.3894 - val_loss: 1.6028 - val_accuracy: 0.4302\n",
      "Epoch 26/50\n",
      "196/196 [==============================] - 5s 28ms/step - loss: 1.6865 - accuracy: 0.3898 - val_loss: 1.6054 - val_accuracy: 0.4372\n",
      "Epoch 27/50\n",
      "196/196 [==============================] - 6s 28ms/step - loss: 1.6874 - accuracy: 0.3865 - val_loss: 1.6472 - val_accuracy: 0.4209\n",
      "Epoch 28/50\n",
      "196/196 [==============================] - 5s 28ms/step - loss: 1.6856 - accuracy: 0.3875 - val_loss: 1.6150 - val_accuracy: 0.4354\n",
      "Epoch 29/50\n",
      "196/196 [==============================] - 6s 28ms/step - loss: 1.6822 - accuracy: 0.3908 - val_loss: 1.6146 - val_accuracy: 0.4388\n",
      "Epoch 30/50\n",
      "196/196 [==============================] - 5s 28ms/step - loss: 1.6755 - accuracy: 0.3887 - val_loss: 1.6410 - val_accuracy: 0.4154\n",
      "Epoch 31/50\n",
      "196/196 [==============================] - 6s 28ms/step - loss: 1.6733 - accuracy: 0.3958 - val_loss: 1.6068 - val_accuracy: 0.4431\n",
      "Epoch 32/50\n",
      "196/196 [==============================] - 6s 31ms/step - loss: 1.6744 - accuracy: 0.3962 - val_loss: 1.5935 - val_accuracy: 0.4423\n",
      "Epoch 33/50\n",
      "196/196 [==============================] - 6s 32ms/step - loss: 1.6656 - accuracy: 0.3977 - val_loss: 1.5822 - val_accuracy: 0.4325\n",
      "Epoch 34/50\n",
      "196/196 [==============================] - 6s 30ms/step - loss: 1.6644 - accuracy: 0.3973 - val_loss: 1.6133 - val_accuracy: 0.4169\n",
      "Epoch 35/50\n",
      "196/196 [==============================] - 8s 38ms/step - loss: 1.6663 - accuracy: 0.3979 - val_loss: 1.6010 - val_accuracy: 0.4313\n",
      "Epoch 36/50\n",
      "196/196 [==============================] - 6s 33ms/step - loss: 1.6650 - accuracy: 0.3937 - val_loss: 1.6087 - val_accuracy: 0.4396\n",
      "Epoch 37/50\n",
      "196/196 [==============================] - 8s 40ms/step - loss: 1.6551 - accuracy: 0.4021 - val_loss: 1.6083 - val_accuracy: 0.4383\n",
      "Epoch 38/50\n",
      "196/196 [==============================] - 5s 25ms/step - loss: 1.6532 - accuracy: 0.4009 - val_loss: 1.5984 - val_accuracy: 0.4342\n",
      "Epoch 39/50\n",
      "196/196 [==============================] - 5s 24ms/step - loss: 1.6492 - accuracy: 0.4019 - val_loss: 1.5780 - val_accuracy: 0.4501\n",
      "Epoch 40/50\n",
      "196/196 [==============================] - 5s 24ms/step - loss: 1.6463 - accuracy: 0.4032 - val_loss: 1.6105 - val_accuracy: 0.4374\n",
      "Epoch 41/50\n",
      "196/196 [==============================] - 5s 24ms/step - loss: 1.6509 - accuracy: 0.4015 - val_loss: 1.6053 - val_accuracy: 0.4401\n",
      "Epoch 42/50\n",
      "196/196 [==============================] - 5s 25ms/step - loss: 1.6464 - accuracy: 0.4046 - val_loss: 1.6076 - val_accuracy: 0.4349\n",
      "Epoch 43/50\n",
      "196/196 [==============================] - 5s 24ms/step - loss: 1.6439 - accuracy: 0.4074 - val_loss: 1.6065 - val_accuracy: 0.4368\n",
      "Epoch 44/50\n",
      "196/196 [==============================] - 5s 28ms/step - loss: 1.6419 - accuracy: 0.4022 - val_loss: 1.5956 - val_accuracy: 0.4441\n",
      "Epoch 45/50\n",
      "196/196 [==============================] - 5s 28ms/step - loss: 1.6392 - accuracy: 0.4066 - val_loss: 1.5678 - val_accuracy: 0.4478\n",
      "Epoch 46/50\n"
     ]
    },
    {
     "name": "stdout",
     "output_type": "stream",
     "text": [
      "196/196 [==============================] - 5s 25ms/step - loss: 1.6389 - accuracy: 0.4091 - val_loss: 1.5818 - val_accuracy: 0.4462\n",
      "Epoch 47/50\n",
      "196/196 [==============================] - 5s 27ms/step - loss: 1.6389 - accuracy: 0.4067 - val_loss: 1.5891 - val_accuracy: 0.4400\n",
      "Epoch 48/50\n",
      "196/196 [==============================] - 5s 26ms/step - loss: 1.6376 - accuracy: 0.4054 - val_loss: 1.5724 - val_accuracy: 0.4471\n",
      "Epoch 49/50\n",
      "196/196 [==============================] - 5s 24ms/step - loss: 1.6332 - accuracy: 0.4086 - val_loss: 1.5697 - val_accuracy: 0.4461\n",
      "Epoch 50/50\n",
      "196/196 [==============================] - 5s 24ms/step - loss: 1.6307 - accuracy: 0.4084 - val_loss: 1.5861 - val_accuracy: 0.4433\n"
     ]
    }
   ],
   "source": [
    "results = {}\n",
    "\"\"\"Code Here\n",
    "撰寫你的訓練流程並將結果用 dictionary 紀錄\n",
    "\"\"\"\n",
    "model = build_mlp(input_shape=x_train.shape[1:], drp_ratio=Dropout_EXP)\n",
    "model.summary()\n",
    "optimizer = keras.optimizers.Adam(lr=LEARNING_RATE, beta_1=0.9, beta_2=0.999, epsilon=None, decay=0.0, amsgrad=False)\n",
    "model.compile(loss=\"categorical_crossentropy\", metrics=[\"accuracy\"], optimizer=optimizer)\n",
    "\n",
    "model.fit(x_train, y_train, \n",
    "          epochs=EPOCHS, \n",
    "          batch_size=BATCH_SIZE, \n",
    "          validation_data=(x_test, y_test), \n",
    "          shuffle=True)\n",
    "\n",
    "# Collect results\n",
    "train_loss = model.history.history[\"loss\"]\n",
    "valid_loss = model.history.history[\"val_loss\"]\n",
    "train_acc = model.history.history[\"accuracy\"]\n",
    "valid_acc = model.history.history[\"val_accuracy\"]"
   ]
  },
  {
   "cell_type": "code",
   "execution_count": 17,
   "metadata": {},
   "outputs": [
    {
     "data": {
      "image/png": "[encoded data removed]",
      "text/plain": [
       "<Figure size 432x288 with 1 Axes>"
      ]
     },
     "metadata": {
      "needs_background": "light"
     },
     "output_type": "display_data"
    },
    {
     "data": {
      "image/png": "[encoded data removed]",
      "text/plain": [
       "<Figure size 432x288 with 1 Axes>"
      ]
     },
     "metadata": {
      "needs_background": "light"
     },
     "output_type": "display_data"
    }
   ],
   "source": [
    "import matplotlib.pyplot as plt\n",
    "%matplotlib inline\n",
    "\"\"\"Code Here\n",
    "將結果繪出\n",
    "\"\"\"\n",
    "plt.plot(range(len(train_loss)), train_loss, label=\"train loss\")\n",
    "plt.plot(range(len(valid_loss)), valid_loss, label=\"valid loss\")\n",
    "plt.legend()\n",
    "plt.title(\"Loss\")\n",
    "plt.show()\n",
    "\n",
    "plt.plot(range(len(train_acc)), train_acc, label=\"train accuracy\")\n",
    "plt.plot(range(len(valid_acc)), valid_acc, label=\"valid accuracy\")\n",
    "plt.legend()\n",
    "plt.title(\"Accuracy\")\n",
    "plt.show()"
   ]
  }
 ],
 "metadata": {
  "kernelspec": {
   "display_name": "Python 3",
   "language": "python",
   "name": "python3"
  },
  "language_info": {
   "codemirror_mode": {
    "name": "ipython",
    "version": 3
   },
   "file_extension": ".py",
   "mimetype": "text/x-python",
   "name": "python",
   "nbconvert_exporter": "python",
   "pygments_lexer": "ipython3",
   "version": "3.8.3"
  }
 },
 "nbformat": 4,
 "nbformat_minor": 2
}
