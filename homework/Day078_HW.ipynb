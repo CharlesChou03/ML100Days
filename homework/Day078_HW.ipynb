{
 "cells": [
  {
   "cell_type": "markdown",
   "metadata": {},
   "source": [
    "## Work\n",
    "1. 請嘗試將 preproc_x 替換成以每筆資料的 min/max 進行標準化至 -1 ~ 1 間，再進行訓練\n",
    "2. 請嘗試將 mlp 疊更深 (e.g 5~10 層)，進行訓練後觀察 learning curve 的走勢\n",
    "3. (optional) 請改用 GPU 進行訓練 (如果你有 GPU 的話)，比較使用 CPU 與 GPU 的訓練速度"
   ]
  },
  {
   "cell_type": "code",
   "execution_count": 1,
   "metadata": {},
   "outputs": [
    {
     "name": "stdout",
     "output_type": "stream",
     "text": [
      "/bin/bash: nvidia-smi: command not found\r\n"
     ]
    }
   ],
   "source": [
    "## \n",
    "\"\"\"\n",
    "Your code here (optional)\n",
    "確認硬體資源\n",
    "\"\"\"\n",
    "!nvidia-smi\n"
   ]
  },
  {
   "cell_type": "code",
   "execution_count": 2,
   "metadata": {},
   "outputs": [],
   "source": [
    "import os\n",
    "import keras\n",
    "\n",
    "# 請嘗試設定 GPU：os.environ\n"
   ]
  },
  {
   "cell_type": "code",
   "execution_count": 111,
   "metadata": {},
   "outputs": [],
   "source": [
    "train, test = keras.datasets.cifar10.load_data()"
   ]
  },
  {
   "cell_type": "code",
   "execution_count": 112,
   "metadata": {},
   "outputs": [],
   "source": [
    "## 資料前處理\n",
    "\"\"\"\n",
    "Your code here\n",
    "\"\"\"\n",
    "import numpy as np\n",
    "\n",
    "def preproc_x(x, flatten=True):\n",
    "    x = 2*(((x - x.min()) / (x.max() - x.min()))-0.5)\n",
    "    if flatten:\n",
    "        x = x.reshape((len(x), -1))\n",
    "    return x\n",
    "\n",
    "def preproc_y(y, num_classes=10):\n",
    "    if y.shape[-1] == 1:\n",
    "        y = keras.utils.to_categorical(y, num_classes)\n",
    "    return y   "
   ]
  },
  {
   "cell_type": "code",
   "execution_count": 113,
   "metadata": {},
   "outputs": [],
   "source": [
    "x_train, y_train = train\n",
    "x_test, y_test = test\n",
    "\n",
    "# Preproc the inputs\n",
    "x_train = preproc_x(x_train)\n",
    "x_test = preproc_x(x_test)\n",
    "\n",
    "# Preprc the outputs\n",
    "y_train = preproc_y(y_train)\n",
    "y_test = preproc_y(y_test)\n"
   ]
  },
  {
   "cell_type": "code",
   "execution_count": 114,
   "metadata": {},
   "outputs": [
    {
     "name": "stdout",
     "output_type": "stream",
     "text": [
      "Model: \"functional_17\"\n",
      "_________________________________________________________________\n",
      "Layer (type)                 Output Shape              Param #   \n",
      "=================================================================\n",
      "input_9 (InputLayer)         [(None, 3072)]            0         \n",
      "_________________________________________________________________\n",
      "hidden_layer1 (Dense)        (None, 512)               1573376   \n",
      "_________________________________________________________________\n",
      "hidden_layer2 (Dense)        (None, 256)               131328    \n",
      "_________________________________________________________________\n",
      "hidden_layer3 (Dense)        (None, 128)               32896     \n",
      "_________________________________________________________________\n",
      "hidden_layer4 (Dense)        (None, 64)                8256      \n",
      "_________________________________________________________________\n",
      "hidden_layer5 (Dense)        (None, 32)                2080      \n",
      "_________________________________________________________________\n",
      "output (Dense)               (None, 10)                330       \n",
      "=================================================================\n",
      "Total params: 1,748,266\n",
      "Trainable params: 1,748,266\n",
      "Non-trainable params: 0\n",
      "_________________________________________________________________\n"
     ]
    }
   ],
   "source": [
    "\"\"\"Code Here\n",
    "建立你的神經網路\n",
    "\"\"\"\n",
    "def build_mlp(input_shape, output_units=10, num_neurons=[512, 256, 128, 64, 32]):\n",
    "    input_layer = keras.layers.Input(input_shape)\n",
    "    \n",
    "    for i, n_units in enumerate(num_neurons):\n",
    "        if i == 0:\n",
    "            x = keras.layers.Dense(units=n_units, activation=\"relu\", name=\"hidden_layer\"+str(i+1))(input_layer)\n",
    "        else:\n",
    "            x = keras.layers.Dense(units=n_units, activation=\"relu\", name=\"hidden_layer\"+str(i+1))(x)\n",
    "    \n",
    "    out = keras.layers.Dense(units=output_units, activation=\"softmax\", name=\"output\")(x)\n",
    "    \n",
    "    model = keras.models.Model(inputs=[input_layer], outputs=[out])\n",
    "    return model\n",
    "\n",
    "model = build_mlp(input_shape=x_train.shape[1:])\n",
    "model.summary()"
   ]
  },
  {
   "cell_type": "code",
   "execution_count": 118,
   "metadata": {},
   "outputs": [],
   "source": [
    "## 超參數設定\n",
    "LEARNING_RATE = 0.001\n",
    "EPOCHS = 80\n",
    "BATCH_SIZE = 256"
   ]
  },
  {
   "cell_type": "code",
   "execution_count": 119,
   "metadata": {},
   "outputs": [],
   "source": [
    "optimizer = keras.optimizers.Adam(lr=LEARNING_RATE)\n",
    "model.compile(loss=\"categorical_crossentropy\", metrics=[\"accuracy\"], optimizer=optimizer)"
   ]
  },
  {
   "cell_type": "code",
   "execution_count": 120,
   "metadata": {},
   "outputs": [
    {
     "name": "stdout",
     "output_type": "stream",
     "text": [
      "Epoch 1/80\n",
      "196/196 [==============================] - 4s 23ms/step - loss: 0.7431 - accuracy: 0.7378 - val_loss: 1.5474 - val_accuracy: 0.5416\n",
      "Epoch 2/80\n",
      "196/196 [==============================] - 5s 28ms/step - loss: 0.6648 - accuracy: 0.7640 - val_loss: 1.5895 - val_accuracy: 0.5373\n",
      "Epoch 3/80\n",
      "196/196 [==============================] - 6s 30ms/step - loss: 0.6110 - accuracy: 0.7843 - val_loss: 1.6502 - val_accuracy: 0.5390\n",
      "Epoch 4/80\n",
      "196/196 [==============================] - 5s 27ms/step - loss: 0.5662 - accuracy: 0.7975 - val_loss: 1.7544 - val_accuracy: 0.5325\n",
      "Epoch 5/80\n",
      "196/196 [==============================] - 5s 27ms/step - loss: 0.5134 - accuracy: 0.8179 - val_loss: 1.8531 - val_accuracy: 0.5220\n",
      "Epoch 6/80\n",
      "196/196 [==============================] - 6s 29ms/step - loss: 0.4791 - accuracy: 0.8301 - val_loss: 1.9592 - val_accuracy: 0.5231\n",
      "Epoch 7/80\n",
      "196/196 [==============================] - 6s 31ms/step - loss: 0.4461 - accuracy: 0.8412 - val_loss: 1.9926 - val_accuracy: 0.5384\n",
      "Epoch 8/80\n",
      "196/196 [==============================] - 6s 29ms/step - loss: 0.4048 - accuracy: 0.8566 - val_loss: 2.1529 - val_accuracy: 0.5312\n",
      "Epoch 9/80\n",
      "196/196 [==============================] - 5s 26ms/step - loss: 0.3731 - accuracy: 0.8690 - val_loss: 2.1719 - val_accuracy: 0.5305\n",
      "Epoch 10/80\n",
      "196/196 [==============================] - 6s 33ms/step - loss: 0.3466 - accuracy: 0.8778 - val_loss: 2.2999 - val_accuracy: 0.5273\n",
      "Epoch 11/80\n",
      "196/196 [==============================] - 5s 26ms/step - loss: 0.3192 - accuracy: 0.8879 - val_loss: 2.3718 - val_accuracy: 0.5319\n",
      "Epoch 12/80\n",
      "196/196 [==============================] - 7s 34ms/step - loss: 0.3074 - accuracy: 0.8921 - val_loss: 2.5984 - val_accuracy: 0.5095\n",
      "Epoch 13/80\n",
      "196/196 [==============================] - 7s 34ms/step - loss: 0.2778 - accuracy: 0.9029 - val_loss: 2.6178 - val_accuracy: 0.5265\n",
      "Epoch 14/80\n",
      "196/196 [==============================] - 7s 37ms/step - loss: 0.2738 - accuracy: 0.9056 - val_loss: 2.6738 - val_accuracy: 0.5333\n",
      "Epoch 15/80\n",
      "196/196 [==============================] - 7s 36ms/step - loss: 0.2630 - accuracy: 0.9072 - val_loss: 2.6587 - val_accuracy: 0.5263\n",
      "Epoch 16/80\n",
      "196/196 [==============================] - 6s 28ms/step - loss: 0.2333 - accuracy: 0.9174 - val_loss: 2.8959 - val_accuracy: 0.5233\n",
      "Epoch 17/80\n",
      "196/196 [==============================] - 4s 23ms/step - loss: 0.2326 - accuracy: 0.9183 - val_loss: 2.9435 - val_accuracy: 0.5221\n",
      "Epoch 18/80\n",
      "196/196 [==============================] - 5s 26ms/step - loss: 0.2140 - accuracy: 0.9242 - val_loss: 3.0530 - val_accuracy: 0.5301\n",
      "Epoch 19/80\n",
      "196/196 [==============================] - 5s 24ms/step - loss: 0.2166 - accuracy: 0.9243 - val_loss: 3.0400 - val_accuracy: 0.5275\n",
      "Epoch 20/80\n",
      "196/196 [==============================] - 5s 23ms/step - loss: 0.2126 - accuracy: 0.9253 - val_loss: 3.0462 - val_accuracy: 0.5314\n",
      "Epoch 21/80\n",
      "196/196 [==============================] - 5s 25ms/step - loss: 0.1752 - accuracy: 0.9392 - val_loss: 3.1776 - val_accuracy: 0.5288\n",
      "Epoch 22/80\n",
      "196/196 [==============================] - 5s 26ms/step - loss: 0.1811 - accuracy: 0.9375 - val_loss: 3.3049 - val_accuracy: 0.5310\n",
      "Epoch 23/80\n",
      "196/196 [==============================] - 5s 23ms/step - loss: 0.2022 - accuracy: 0.9310 - val_loss: 3.1991 - val_accuracy: 0.5339\n",
      "Epoch 24/80\n",
      "196/196 [==============================] - 5s 23ms/step - loss: 0.1635 - accuracy: 0.9425 - val_loss: 3.3573 - val_accuracy: 0.5281\n",
      "Epoch 25/80\n",
      "196/196 [==============================] - 4s 22ms/step - loss: 0.1703 - accuracy: 0.9408 - val_loss: 3.3362 - val_accuracy: 0.5321\n",
      "Epoch 26/80\n",
      "196/196 [==============================] - 4s 22ms/step - loss: 0.1510 - accuracy: 0.9484 - val_loss: 3.4696 - val_accuracy: 0.5284\n",
      "Epoch 27/80\n",
      "196/196 [==============================] - 5s 25ms/step - loss: 0.1588 - accuracy: 0.9454 - val_loss: 3.5236 - val_accuracy: 0.5272\n",
      "Epoch 28/80\n",
      "196/196 [==============================] - 5s 28ms/step - loss: 0.1473 - accuracy: 0.9506 - val_loss: 3.5449 - val_accuracy: 0.5204\n",
      "Epoch 29/80\n",
      "196/196 [==============================] - 5s 27ms/step - loss: 0.1546 - accuracy: 0.9478 - val_loss: 3.5319 - val_accuracy: 0.5314\n",
      "Epoch 30/80\n",
      "196/196 [==============================] - 6s 30ms/step - loss: 0.1293 - accuracy: 0.9561 - val_loss: 3.6074 - val_accuracy: 0.5397\n",
      "Epoch 31/80\n",
      "196/196 [==============================] - 7s 34ms/step - loss: 0.1416 - accuracy: 0.9521 - val_loss: 3.6195 - val_accuracy: 0.5360\n",
      "Epoch 32/80\n",
      "196/196 [==============================] - 7s 37ms/step - loss: 0.1436 - accuracy: 0.9519 - val_loss: 3.6143 - val_accuracy: 0.5232\n",
      "Epoch 33/80\n",
      "196/196 [==============================] - 5s 25ms/step - loss: 0.1385 - accuracy: 0.9533 - val_loss: 3.7581 - val_accuracy: 0.5375\n",
      "Epoch 34/80\n",
      "196/196 [==============================] - 5s 24ms/step - loss: 0.1376 - accuracy: 0.9542 - val_loss: 3.7033 - val_accuracy: 0.5286\n",
      "Epoch 35/80\n",
      "196/196 [==============================] - 5s 24ms/step - loss: 0.1471 - accuracy: 0.9507 - val_loss: 3.6740 - val_accuracy: 0.5224\n",
      "Epoch 36/80\n",
      "196/196 [==============================] - 5s 23ms/step - loss: 0.1166 - accuracy: 0.9601 - val_loss: 3.8598 - val_accuracy: 0.5346\n",
      "Epoch 37/80\n",
      "196/196 [==============================] - 4s 23ms/step - loss: 0.1127 - accuracy: 0.9627 - val_loss: 3.9255 - val_accuracy: 0.5267\n",
      "Epoch 38/80\n",
      "196/196 [==============================] - 4s 22ms/step - loss: 0.1367 - accuracy: 0.9546 - val_loss: 3.8075 - val_accuracy: 0.5297\n",
      "Epoch 39/80\n",
      "196/196 [==============================] - 5s 23ms/step - loss: 0.1321 - accuracy: 0.9559 - val_loss: 3.7524 - val_accuracy: 0.5332\n",
      "Epoch 40/80\n",
      "196/196 [==============================] - 4s 22ms/step - loss: 0.1228 - accuracy: 0.9589 - val_loss: 3.9620 - val_accuracy: 0.5268\n",
      "Epoch 41/80\n",
      "196/196 [==============================] - 4s 23ms/step - loss: 0.1156 - accuracy: 0.9615 - val_loss: 3.9718 - val_accuracy: 0.5368\n",
      "Epoch 42/80\n",
      "196/196 [==============================] - 4s 23ms/step - loss: 0.1008 - accuracy: 0.9665 - val_loss: 4.1998 - val_accuracy: 0.5208\n",
      "Epoch 43/80\n",
      "196/196 [==============================] - 4s 22ms/step - loss: 0.1190 - accuracy: 0.9601 - val_loss: 3.9821 - val_accuracy: 0.5291\n",
      "Epoch 44/80\n",
      "196/196 [==============================] - 4s 23ms/step - loss: 0.1185 - accuracy: 0.9613 - val_loss: 3.9615 - val_accuracy: 0.5322\n",
      "Epoch 45/80\n",
      "196/196 [==============================] - 4s 22ms/step - loss: 0.1015 - accuracy: 0.9666 - val_loss: 4.0485 - val_accuracy: 0.5304\n",
      "Epoch 46/80\n",
      "196/196 [==============================] - 4s 23ms/step - loss: 0.0978 - accuracy: 0.9681 - val_loss: 4.3428 - val_accuracy: 0.5305\n",
      "Epoch 47/80\n",
      "196/196 [==============================] - 5s 23ms/step - loss: 0.1016 - accuracy: 0.9664 - val_loss: 4.0196 - val_accuracy: 0.5293\n",
      "Epoch 48/80\n",
      "196/196 [==============================] - 4s 23ms/step - loss: 0.0914 - accuracy: 0.9699 - val_loss: 4.1341 - val_accuracy: 0.5319\n",
      "Epoch 49/80\n",
      "196/196 [==============================] - 4s 23ms/step - loss: 0.1036 - accuracy: 0.9650 - val_loss: 4.1748 - val_accuracy: 0.5272\n",
      "Epoch 50/80\n",
      "196/196 [==============================] - 4s 22ms/step - loss: 0.1292 - accuracy: 0.9577 - val_loss: 4.1206 - val_accuracy: 0.5249\n",
      "Epoch 51/80\n",
      "196/196 [==============================] - 5s 25ms/step - loss: 0.0987 - accuracy: 0.9667 - val_loss: 4.1183 - val_accuracy: 0.5295\n",
      "Epoch 52/80\n",
      "196/196 [==============================] - 5s 23ms/step - loss: 0.0924 - accuracy: 0.9703 - val_loss: 4.3120 - val_accuracy: 0.5322\n",
      "Epoch 53/80\n",
      "196/196 [==============================] - 5s 28ms/step - loss: 0.0798 - accuracy: 0.9739 - val_loss: 4.3976 - val_accuracy: 0.5329\n",
      "Epoch 54/80\n",
      "196/196 [==============================] - 5s 26ms/step - loss: 0.0954 - accuracy: 0.9685 - val_loss: 4.1896 - val_accuracy: 0.5314\n",
      "Epoch 55/80\n",
      "196/196 [==============================] - 5s 23ms/step - loss: 0.1049 - accuracy: 0.9661 - val_loss: 4.2491 - val_accuracy: 0.5358\n",
      "Epoch 56/80\n",
      "196/196 [==============================] - 4s 22ms/step - loss: 0.0908 - accuracy: 0.9702 - val_loss: 4.2114 - val_accuracy: 0.5297\n",
      "Epoch 57/80\n",
      "196/196 [==============================] - 4s 22ms/step - loss: 0.0886 - accuracy: 0.9711 - val_loss: 4.2429 - val_accuracy: 0.5368\n"
     ]
    },
    {
     "name": "stdout",
     "output_type": "stream",
     "text": [
      "Epoch 58/80\n",
      "196/196 [==============================] - 5s 24ms/step - loss: 0.0927 - accuracy: 0.9695 - val_loss: 4.1435 - val_accuracy: 0.5305\n",
      "Epoch 59/80\n",
      "196/196 [==============================] - 5s 23ms/step - loss: 0.0759 - accuracy: 0.9752 - val_loss: 4.4158 - val_accuracy: 0.5339\n",
      "Epoch 60/80\n",
      "196/196 [==============================] - 5s 23ms/step - loss: 0.1047 - accuracy: 0.9666 - val_loss: 4.2551 - val_accuracy: 0.5319\n",
      "Epoch 61/80\n",
      "196/196 [==============================] - 4s 22ms/step - loss: 0.1109 - accuracy: 0.9638 - val_loss: 4.2257 - val_accuracy: 0.5367\n",
      "Epoch 62/80\n",
      "196/196 [==============================] - 4s 23ms/step - loss: 0.0998 - accuracy: 0.9683 - val_loss: 4.2900 - val_accuracy: 0.5289\n",
      "Epoch 63/80\n",
      "196/196 [==============================] - 4s 23ms/step - loss: 0.0700 - accuracy: 0.9767 - val_loss: 4.4550 - val_accuracy: 0.5355\n",
      "Epoch 64/80\n",
      "196/196 [==============================] - 5s 24ms/step - loss: 0.0658 - accuracy: 0.9782 - val_loss: 4.5403 - val_accuracy: 0.5363\n",
      "Epoch 65/80\n",
      "196/196 [==============================] - 4s 23ms/step - loss: 0.0763 - accuracy: 0.9748 - val_loss: 4.4829 - val_accuracy: 0.5332\n",
      "Epoch 66/80\n",
      "196/196 [==============================] - 4s 23ms/step - loss: 0.0911 - accuracy: 0.9708 - val_loss: 4.3803 - val_accuracy: 0.5276\n",
      "Epoch 67/80\n",
      "196/196 [==============================] - 4s 23ms/step - loss: 0.0677 - accuracy: 0.9782 - val_loss: 4.5252 - val_accuracy: 0.5296\n",
      "Epoch 68/80\n",
      "196/196 [==============================] - 4s 22ms/step - loss: 0.0815 - accuracy: 0.9746 - val_loss: 4.3795 - val_accuracy: 0.5391\n",
      "Epoch 69/80\n",
      "196/196 [==============================] - 5s 24ms/step - loss: 0.0893 - accuracy: 0.9705 - val_loss: 4.3690 - val_accuracy: 0.5355\n",
      "Epoch 70/80\n",
      "196/196 [==============================] - 5s 23ms/step - loss: 0.0826 - accuracy: 0.9730 - val_loss: 4.4210 - val_accuracy: 0.5291\n",
      "Epoch 71/80\n",
      "196/196 [==============================] - 4s 22ms/step - loss: 0.0624 - accuracy: 0.9798 - val_loss: 4.5692 - val_accuracy: 0.5240\n",
      "Epoch 72/80\n",
      "196/196 [==============================] - 5s 23ms/step - loss: 0.0766 - accuracy: 0.9753 - val_loss: 4.4638 - val_accuracy: 0.5327\n",
      "Epoch 73/80\n",
      "196/196 [==============================] - 5s 24ms/step - loss: 0.0770 - accuracy: 0.9753 - val_loss: 4.5115 - val_accuracy: 0.5269\n",
      "Epoch 74/80\n",
      "196/196 [==============================] - 5s 27ms/step - loss: 0.0836 - accuracy: 0.9733 - val_loss: 4.3998 - val_accuracy: 0.5386\n",
      "Epoch 75/80\n",
      "196/196 [==============================] - 5s 27ms/step - loss: 0.0739 - accuracy: 0.9763 - val_loss: 4.5497 - val_accuracy: 0.5286\n",
      "Epoch 76/80\n",
      "196/196 [==============================] - 6s 29ms/step - loss: 0.0764 - accuracy: 0.9763 - val_loss: 4.5382 - val_accuracy: 0.5288\n",
      "Epoch 77/80\n",
      "196/196 [==============================] - 5s 23ms/step - loss: 0.0682 - accuracy: 0.9781 - val_loss: 4.5604 - val_accuracy: 0.5355\n",
      "Epoch 78/80\n",
      "196/196 [==============================] - 5s 25ms/step - loss: 0.0643 - accuracy: 0.9787 - val_loss: 4.6277 - val_accuracy: 0.5316\n",
      "Epoch 79/80\n",
      "196/196 [==============================] - 5s 23ms/step - loss: 0.0871 - accuracy: 0.9720 - val_loss: 4.5248 - val_accuracy: 0.5253\n",
      "Epoch 80/80\n",
      "196/196 [==============================] - 5s 24ms/step - loss: 0.0776 - accuracy: 0.9753 - val_loss: 4.4175 - val_accuracy: 0.5355\n"
     ]
    },
    {
     "data": {
      "text/plain": [
       "<tensorflow.python.keras.callbacks.History at 0x146f78970>"
      ]
     },
     "execution_count": 120,
     "metadata": {},
     "output_type": "execute_result"
    }
   ],
   "source": [
    "# print(y_test.shape)\n",
    "model.fit(x_train, y_train, \n",
    "          epochs=EPOCHS, \n",
    "          batch_size=BATCH_SIZE, \n",
    "          validation_data=(x_test, y_test), \n",
    "          shuffle=True)"
   ]
  },
  {
   "cell_type": "code",
   "execution_count": 121,
   "metadata": {},
   "outputs": [
    {
     "data": {
      "image/png": "[encoded data removed]",
      "text/plain": [
       "<Figure size 432x288 with 1 Axes>"
      ]
     },
     "metadata": {
      "needs_background": "light"
     },
     "output_type": "display_data"
    },
    {
     "data": {
      "image/png": "[encoded data removed]",
      "text/plain": [
       "<Figure size 432x288 with 1 Axes>"
      ]
     },
     "metadata": {
      "needs_background": "light"
     },
     "output_type": "display_data"
    }
   ],
   "source": [
    "import matplotlib.pyplot as plt\n",
    "\n",
    "\n",
    "train_loss = model.history.history[\"loss\"]\n",
    "valid_loss = model.history.history[\"val_loss\"]\n",
    "\n",
    "train_acc = model.history.history[\"accuracy\"]\n",
    "valid_acc = model.history.history[\"val_accuracy\"]\n",
    "\n",
    "plt.plot(range(len(train_loss)), train_loss, label=\"train loss\")\n",
    "plt.plot(range(len(valid_loss)), valid_loss, label=\"valid loss\")\n",
    "plt.legend()\n",
    "plt.title(\"Loss\")\n",
    "plt.show()\n",
    "\n",
    "plt.plot(range(len(train_acc)), train_acc, label=\"train accuracy\")\n",
    "plt.plot(range(len(valid_acc)), valid_acc, label=\"valid accuracy\")\n",
    "plt.legend()\n",
    "plt.title(\"Accuracy\")\n",
    "plt.show()"
   ]
  }
 ],
 "metadata": {
  "kernelspec": {
   "display_name": "Python 3",
   "language": "python",
   "name": "python3"
  },
  "language_info": {
   "codemirror_mode": {
    "name": "ipython",
    "version": 3
   },
   "file_extension": ".py",
   "mimetype": "text/x-python",
   "name": "python",
   "nbconvert_exporter": "python",
   "pygments_lexer": "ipython3",
   "version": "3.8.3"
  }
 },
 "nbformat": 4,
 "nbformat_minor": 2
}
