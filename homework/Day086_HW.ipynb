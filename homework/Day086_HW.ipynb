{
 "cells": [
  {
   "cell_type": "markdown",
   "metadata": {},
   "source": [
    "## Work\n",
    "1. 試比較 save_best_only 與否的差異\n",
    "2. 請僅存入將 save_weights_only 設定為 True, 並嘗試 reset ipynb 並將模型與權重重新建回並預測 x_test"
   ]
  },
  {
   "cell_type": "code",
   "execution_count": 1,
   "metadata": {},
   "outputs": [],
   "source": [
    "import os\n",
    "import keras\n",
    "\n",
    "# Disable GPU\n",
    "os.environ[\"CUDA_VISIBLE_DEVICES\"] = \"\""
   ]
  },
  {
   "cell_type": "code",
   "execution_count": 2,
   "metadata": {},
   "outputs": [],
   "source": [
    "train, test = keras.datasets.cifar10.load_data()"
   ]
  },
  {
   "cell_type": "code",
   "execution_count": 3,
   "metadata": {},
   "outputs": [],
   "source": [
    "## 資料前處理\n",
    "def preproc_x(x, flatten=True):\n",
    "    x = x / 255.\n",
    "    if flatten:\n",
    "        x = x.reshape((len(x), -1))\n",
    "    return x\n",
    "\n",
    "def preproc_y(y, num_classes=10):\n",
    "    if y.shape[-1] == 1:\n",
    "        y = keras.utils.to_categorical(y, num_classes)\n",
    "    return y    "
   ]
  },
  {
   "cell_type": "code",
   "execution_count": 4,
   "metadata": {},
   "outputs": [],
   "source": [
    "x_train, y_train = train\n",
    "x_test, y_test = test\n",
    "\n",
    "# Preproc the inputs\n",
    "x_train = preproc_x(x_train)\n",
    "x_test = preproc_x(x_test)\n",
    "\n",
    "# Preprc the outputs\n",
    "y_train = preproc_y(y_train)\n",
    "y_test = preproc_y(y_test)"
   ]
  },
  {
   "cell_type": "code",
   "execution_count": 5,
   "metadata": {},
   "outputs": [],
   "source": [
    "from keras.layers import BatchNormalization\n",
    "\n",
    "\"\"\"\n",
    "建立神經網路，並加入 BN layer\n",
    "\"\"\"\n",
    "def build_mlp(input_shape, output_units=10, num_neurons=[512, 256, 128]):\n",
    "    input_layer = keras.layers.Input(input_shape)\n",
    "    \n",
    "    for i, n_units in enumerate(num_neurons):\n",
    "        if i == 0:\n",
    "            x = keras.layers.Dense(units=n_units, \n",
    "                                   activation=\"relu\", \n",
    "                                   name=\"hidden_layer\"+str(i+1))(input_layer)\n",
    "            x = BatchNormalization()(x)\n",
    "        else:\n",
    "            x = keras.layers.Dense(units=n_units, \n",
    "                                   activation=\"relu\", \n",
    "                                   name=\"hidden_layer\"+str(i+1))(x)\n",
    "            x = BatchNormalization()(x)\n",
    "    \n",
    "    out = keras.layers.Dense(units=output_units, activation=\"softmax\", name=\"output\")(x)\n",
    "    \n",
    "    model = keras.models.Model(inputs=[input_layer], outputs=[out])\n",
    "    return model"
   ]
  },
  {
   "cell_type": "code",
   "execution_count": 6,
   "metadata": {},
   "outputs": [],
   "source": [
    "\"\"\"Code Here\n",
    "設定超參數\n",
    "\"\"\"\n",
    "LEARNING_RATE = 1e-3\n",
    "EPOCHS = 50\n",
    "BATCH_SIZE = 1024\n",
    "MOMENTUM = 0.95"
   ]
  },
  {
   "cell_type": "code",
   "execution_count": 7,
   "metadata": {},
   "outputs": [
    {
     "name": "stdout",
     "output_type": "stream",
     "text": [
      "Model: \"functional_1\"\n",
      "_________________________________________________________________\n",
      "Layer (type)                 Output Shape              Param #   \n",
      "=================================================================\n",
      "input_1 (InputLayer)         [(None, 3072)]            0         \n",
      "_________________________________________________________________\n",
      "hidden_layer1 (Dense)        (None, 512)               1573376   \n",
      "_________________________________________________________________\n",
      "batch_normalization (BatchNo (None, 512)               2048      \n",
      "_________________________________________________________________\n",
      "hidden_layer2 (Dense)        (None, 256)               131328    \n",
      "_________________________________________________________________\n",
      "batch_normalization_1 (Batch (None, 256)               1024      \n",
      "_________________________________________________________________\n",
      "hidden_layer3 (Dense)        (None, 128)               32896     \n",
      "_________________________________________________________________\n",
      "batch_normalization_2 (Batch (None, 128)               512       \n",
      "_________________________________________________________________\n",
      "output (Dense)               (None, 10)                1290      \n",
      "=================================================================\n",
      "Total params: 1,742,474\n",
      "Trainable params: 1,740,682\n",
      "Non-trainable params: 1,792\n",
      "_________________________________________________________________\n",
      "Epoch 1/50\n",
      "49/49 [==============================] - 5s 104ms/step - loss: 2.2239 - accuracy: 0.2683 - val_loss: 2.1364 - val_accuracy: 0.2170\n",
      "Epoch 2/50\n",
      "49/49 [==============================] - 7s 147ms/step - loss: 1.7452 - accuracy: 0.3901 - val_loss: 1.9915 - val_accuracy: 0.2837\n",
      "Epoch 3/50\n",
      "49/49 [==============================] - 4s 86ms/step - loss: 1.6187 - accuracy: 0.4336 - val_loss: 1.8439 - val_accuracy: 0.3557\n",
      "Epoch 4/50\n",
      "49/49 [==============================] - 5s 100ms/step - loss: 1.5457 - accuracy: 0.4582 - val_loss: 1.7303 - val_accuracy: 0.3888\n",
      "Epoch 5/50\n",
      "49/49 [==============================] - 5s 104ms/step - loss: 1.4898 - accuracy: 0.4798 - val_loss: 1.6519 - val_accuracy: 0.4190\n",
      "Epoch 6/50\n",
      "49/49 [==============================] - 5s 105ms/step - loss: 1.4428 - accuracy: 0.4936 - val_loss: 1.5936 - val_accuracy: 0.4334\n",
      "Epoch 7/50\n",
      "49/49 [==============================] - 5s 105ms/step - loss: 1.4026 - accuracy: 0.5095 - val_loss: 1.5392 - val_accuracy: 0.4551\n",
      "Epoch 8/50\n",
      "49/49 [==============================] - 6s 121ms/step - loss: 1.3694 - accuracy: 0.5207 - val_loss: 1.5137 - val_accuracy: 0.4667\n",
      "Epoch 9/50\n",
      "49/49 [==============================] - 6s 113ms/step - loss: 1.3358 - accuracy: 0.5347 - val_loss: 1.5009 - val_accuracy: 0.4658\n",
      "Epoch 10/50\n",
      "49/49 [==============================] - 6s 113ms/step - loss: 1.3051 - accuracy: 0.5461 - val_loss: 1.4814 - val_accuracy: 0.4765\n",
      "Epoch 11/50\n",
      "49/49 [==============================] - 5s 107ms/step - loss: 1.2795 - accuracy: 0.5557 - val_loss: 1.4721 - val_accuracy: 0.4770\n",
      "Epoch 12/50\n",
      "49/49 [==============================] - 5s 102ms/step - loss: 1.2535 - accuracy: 0.5658 - val_loss: 1.4617 - val_accuracy: 0.4855\n",
      "Epoch 13/50\n",
      "49/49 [==============================] - 5s 101ms/step - loss: 1.2257 - accuracy: 0.5763 - val_loss: 1.4609 - val_accuracy: 0.4870\n",
      "Epoch 14/50\n",
      "49/49 [==============================] - 5s 94ms/step - loss: 1.2020 - accuracy: 0.5858 - val_loss: 1.4523 - val_accuracy: 0.4857\n",
      "Epoch 15/50\n",
      "49/49 [==============================] - 4s 91ms/step - loss: 1.1782 - accuracy: 0.5925 - val_loss: 1.4496 - val_accuracy: 0.4941\n",
      "Epoch 16/50\n",
      "49/49 [==============================] - 4s 88ms/step - loss: 1.1555 - accuracy: 0.6030 - val_loss: 1.4473 - val_accuracy: 0.4968\n",
      "Epoch 17/50\n",
      "49/49 [==============================] - 5s 94ms/step - loss: 1.1328 - accuracy: 0.6118 - val_loss: 1.4405 - val_accuracy: 0.4920\n",
      "Epoch 18/50\n",
      "49/49 [==============================] - 4s 90ms/step - loss: 1.1093 - accuracy: 0.6184 - val_loss: 1.4454 - val_accuracy: 0.4939\n",
      "Epoch 19/50\n",
      "49/49 [==============================] - 4s 90ms/step - loss: 1.0896 - accuracy: 0.6271 - val_loss: 1.4295 - val_accuracy: 0.4940\n",
      "Epoch 20/50\n",
      "49/49 [==============================] - 4s 92ms/step - loss: 1.0662 - accuracy: 0.6352 - val_loss: 1.4332 - val_accuracy: 0.4958\n",
      "Epoch 21/50\n",
      "49/49 [==============================] - 5s 98ms/step - loss: 1.0460 - accuracy: 0.6447 - val_loss: 1.4407 - val_accuracy: 0.4992\n",
      "Epoch 22/50\n",
      "49/49 [==============================] - 4s 91ms/step - loss: 1.0252 - accuracy: 0.6514 - val_loss: 1.4457 - val_accuracy: 0.4955\n",
      "Epoch 23/50\n",
      "49/49 [==============================] - 4s 89ms/step - loss: 1.0044 - accuracy: 0.6599 - val_loss: 1.4364 - val_accuracy: 0.5012\n",
      "Epoch 24/50\n",
      "49/49 [==============================] - 4s 91ms/step - loss: 0.9852 - accuracy: 0.6672 - val_loss: 1.4441 - val_accuracy: 0.5031\n",
      "Epoch 25/50\n",
      "49/49 [==============================] - 4s 89ms/step - loss: 0.9645 - accuracy: 0.6752 - val_loss: 1.4446 - val_accuracy: 0.4962\n",
      "Epoch 26/50\n",
      "49/49 [==============================] - 4s 88ms/step - loss: 0.9448 - accuracy: 0.6827 - val_loss: 1.4474 - val_accuracy: 0.4985\n",
      "Epoch 27/50\n",
      "49/49 [==============================] - 5s 92ms/step - loss: 0.9223 - accuracy: 0.6929 - val_loss: 1.4517 - val_accuracy: 0.4970\n",
      "Epoch 28/50\n",
      "49/49 [==============================] - 5s 98ms/step - loss: 0.9039 - accuracy: 0.6990 - val_loss: 1.4687 - val_accuracy: 0.4929\n",
      "Epoch 29/50\n",
      "49/49 [==============================] - 4s 89ms/step - loss: 0.8839 - accuracy: 0.7068 - val_loss: 1.4558 - val_accuracy: 0.5014\n",
      "Epoch 30/50\n",
      "49/49 [==============================] - 4s 91ms/step - loss: 0.8642 - accuracy: 0.7153 - val_loss: 1.4606 - val_accuracy: 0.5000\n",
      "Epoch 31/50\n",
      "49/49 [==============================] - 4s 88ms/step - loss: 0.8447 - accuracy: 0.7199 - val_loss: 1.4681 - val_accuracy: 0.5026\n",
      "Epoch 32/50\n",
      "49/49 [==============================] - 4s 88ms/step - loss: 0.8245 - accuracy: 0.7301 - val_loss: 1.4708 - val_accuracy: 0.4997\n",
      "Epoch 33/50\n",
      "49/49 [==============================] - 4s 90ms/step - loss: 0.8082 - accuracy: 0.7369 - val_loss: 1.4720 - val_accuracy: 0.4999\n",
      "Epoch 34/50\n",
      "49/49 [==============================] - 4s 88ms/step - loss: 0.7883 - accuracy: 0.7447 - val_loss: 1.4841 - val_accuracy: 0.5032\n",
      "Epoch 35/50\n",
      "49/49 [==============================] - 4s 90ms/step - loss: 0.7687 - accuracy: 0.7528 - val_loss: 1.4912 - val_accuracy: 0.5017\n",
      "Epoch 36/50\n",
      "49/49 [==============================] - 4s 86ms/step - loss: 0.7497 - accuracy: 0.7604 - val_loss: 1.4976 - val_accuracy: 0.4981\n",
      "Epoch 37/50\n",
      "49/49 [==============================] - 5s 92ms/step - loss: 0.7322 - accuracy: 0.7686 - val_loss: 1.5048 - val_accuracy: 0.4986\n",
      "Epoch 38/50\n",
      "49/49 [==============================] - 4s 89ms/step - loss: 0.7110 - accuracy: 0.7749 - val_loss: 1.5258 - val_accuracy: 0.4967\n",
      "Epoch 39/50\n",
      "49/49 [==============================] - 4s 90ms/step - loss: 0.6936 - accuracy: 0.7835 - val_loss: 1.5285 - val_accuracy: 0.4946\n",
      "Epoch 40/50\n",
      "49/49 [==============================] - 4s 90ms/step - loss: 0.6773 - accuracy: 0.7886 - val_loss: 1.5517 - val_accuracy: 0.4967\n",
      "Epoch 41/50\n",
      "49/49 [==============================] - 4s 90ms/step - loss: 0.6592 - accuracy: 0.7976 - val_loss: 1.5446 - val_accuracy: 0.4973\n",
      "Epoch 42/50\n",
      "49/49 [==============================] - 4s 89ms/step - loss: 0.6380 - accuracy: 0.8050 - val_loss: 1.5742 - val_accuracy: 0.4869\n",
      "Epoch 43/50\n",
      "49/49 [==============================] - 4s 88ms/step - loss: 0.6220 - accuracy: 0.8131 - val_loss: 1.5731 - val_accuracy: 0.4967\n",
      "Epoch 44/50\n",
      "49/49 [==============================] - 4s 90ms/step - loss: 0.6046 - accuracy: 0.8193 - val_loss: 1.5885 - val_accuracy: 0.4904\n",
      "Epoch 45/50\n",
      "49/49 [==============================] - 4s 88ms/step - loss: 0.5887 - accuracy: 0.8246 - val_loss: 1.5985 - val_accuracy: 0.4976\n",
      "Epoch 46/50\n",
      "49/49 [==============================] - 4s 89ms/step - loss: 0.5695 - accuracy: 0.8316 - val_loss: 1.5988 - val_accuracy: 0.4952\n",
      "Epoch 47/50\n",
      "49/49 [==============================] - 5s 94ms/step - loss: 0.5529 - accuracy: 0.8394 - val_loss: 1.6098 - val_accuracy: 0.4980\n",
      "Epoch 48/50\n"
     ]
    },
    {
     "name": "stdout",
     "output_type": "stream",
     "text": [
      "49/49 [==============================] - 5s 92ms/step - loss: 0.5381 - accuracy: 0.8454 - val_loss: 1.6302 - val_accuracy: 0.4948\n",
      "Epoch 49/50\n",
      "49/49 [==============================] - 4s 90ms/step - loss: 0.5192 - accuracy: 0.8527 - val_loss: 1.6513 - val_accuracy: 0.4952\n",
      "Epoch 50/50\n",
      "49/49 [==============================] - 4s 90ms/step - loss: 0.5041 - accuracy: 0.8575 - val_loss: 1.6566 - val_accuracy: 0.4957\n"
     ]
    },
    {
     "ename": "KeyError",
     "evalue": "'acc'",
     "output_type": "error",
     "traceback": [
      "\u001b[0;31m---------------------------------------------------------------------------\u001b[0m",
      "\u001b[0;31mKeyError\u001b[0m                                  Traceback (most recent call last)",
      "\u001b[0;32m<ipython-input-7-3a6b1343b908>\u001b[0m in \u001b[0;36m<module>\u001b[0;34m\u001b[0m\n\u001b[1;32m     29\u001b[0m \u001b[0mtrain_loss\u001b[0m \u001b[0;34m=\u001b[0m \u001b[0mmodel\u001b[0m\u001b[0;34m.\u001b[0m\u001b[0mhistory\u001b[0m\u001b[0;34m.\u001b[0m\u001b[0mhistory\u001b[0m\u001b[0;34m[\u001b[0m\u001b[0;34m\"loss\"\u001b[0m\u001b[0;34m]\u001b[0m\u001b[0;34m\u001b[0m\u001b[0;34m\u001b[0m\u001b[0m\n\u001b[1;32m     30\u001b[0m \u001b[0mvalid_loss\u001b[0m \u001b[0;34m=\u001b[0m \u001b[0mmodel\u001b[0m\u001b[0;34m.\u001b[0m\u001b[0mhistory\u001b[0m\u001b[0;34m.\u001b[0m\u001b[0mhistory\u001b[0m\u001b[0;34m[\u001b[0m\u001b[0;34m\"val_loss\"\u001b[0m\u001b[0;34m]\u001b[0m\u001b[0;34m\u001b[0m\u001b[0;34m\u001b[0m\u001b[0m\n\u001b[0;32m---> 31\u001b[0;31m \u001b[0mtrain_acc\u001b[0m \u001b[0;34m=\u001b[0m \u001b[0mmodel\u001b[0m\u001b[0;34m.\u001b[0m\u001b[0mhistory\u001b[0m\u001b[0;34m.\u001b[0m\u001b[0mhistory\u001b[0m\u001b[0;34m[\u001b[0m\u001b[0;34m\"acc\"\u001b[0m\u001b[0;34m]\u001b[0m\u001b[0;34m\u001b[0m\u001b[0;34m\u001b[0m\u001b[0m\n\u001b[0m\u001b[1;32m     32\u001b[0m \u001b[0mvalid_acc\u001b[0m \u001b[0;34m=\u001b[0m \u001b[0mmodel\u001b[0m\u001b[0;34m.\u001b[0m\u001b[0mhistory\u001b[0m\u001b[0;34m.\u001b[0m\u001b[0mhistory\u001b[0m\u001b[0;34m[\u001b[0m\u001b[0;34m\"val_acc\"\u001b[0m\u001b[0;34m]\u001b[0m\u001b[0;34m\u001b[0m\u001b[0;34m\u001b[0m\u001b[0m\n\u001b[1;32m     33\u001b[0m \u001b[0;34m\u001b[0m\u001b[0m\n",
      "\u001b[0;31mKeyError\u001b[0m: 'acc'"
     ]
    }
   ],
   "source": [
    "# 載入 Callbacks\n",
    "\"\"\"Code Here\n",
    "設定 callbacks: model checkpoint\n",
    "\"\"\"\n",
    "from keras.callbacks import ModelCheckpoint\n",
    "\n",
    "model_ckpt = ModelCheckpoint(filepath=\"./tmp.h5\", \n",
    "                             monitor=\"val_loss\", \n",
    "                             save_best_only=False)\n",
    "\n",
    "\n",
    "\"\"\"Code Here\n",
    "撰寫你的訓練流程並將結果用 dictionary 紀錄\n",
    "\"\"\"\n",
    "model = build_mlp(input_shape=x_train.shape[1:])\n",
    "model.summary()\n",
    "optimizer = keras.optimizers.SGD(lr=LEARNING_RATE, nesterov=True, momentum=MOMENTUM)\n",
    "model.compile(loss=\"categorical_crossentropy\", metrics=[\"accuracy\"], optimizer=optimizer)\n",
    "\n",
    "model.fit(x_train, y_train, \n",
    "          epochs=EPOCHS, \n",
    "          batch_size=BATCH_SIZE, \n",
    "          validation_data=(x_test, y_test), \n",
    "          shuffle=True,\n",
    "          callbacks=[model_ckpt]\n",
    "         )\n"
   ]
  },
  {
   "cell_type": "code",
   "execution_count": 8,
   "metadata": {},
   "outputs": [
    {
     "name": "stdout",
     "output_type": "stream",
     "text": [
      "313/313 [==============================] - 1s 3ms/step - loss: 1.6566 - accuracy: 0.4957\n"
     ]
    }
   ],
   "source": [
    "# Collect results\n",
    "train_loss = model.history.history[\"loss\"]\n",
    "valid_loss = model.history.history[\"val_loss\"]\n",
    "train_acc = model.history.history[\"accuracy\"]\n",
    "valid_acc = model.history.history[\"val_accuracy\"]\n",
    "\n",
    "# Load back\n",
    "model = keras.models.load_model(\"./tmp.h5\")\n",
    "loss_loadback, acc_loadback = model.evaluate(x_test, y_test)"
   ]
  },
  {
   "cell_type": "code",
   "execution_count": 9,
   "metadata": {
    "scrolled": true
   },
   "outputs": [
    {
     "data": {
      "image/png": "[encoded data removed]",
      "text/plain": [
       "<Figure size 432x288 with 1 Axes>"
      ]
     },
     "metadata": {
      "needs_background": "light"
     },
     "output_type": "display_data"
    },
    {
     "data": {
      "image/png": "[encoded data removed]",
      "text/plain": [
       "<Figure size 432x288 with 1 Axes>"
      ]
     },
     "metadata": {
      "needs_background": "light"
     },
     "output_type": "display_data"
    }
   ],
   "source": [
    "import matplotlib.pyplot as plt\n",
    "%matplotlib inline\n",
    "\n",
    "plt.plot(range(len(train_loss)), train_loss, label=\"train loss\")\n",
    "plt.plot(range(len(valid_loss)), valid_loss, label=\"valid loss\")\n",
    "plt.hlines(y=loss_loadback, xmin=0, xmax=len(train_loss), colors='r', linestyles='--')\n",
    "plt.legend()\n",
    "plt.title(\"Loss\")\n",
    "plt.show()\n",
    "\n",
    "plt.plot(range(len(train_acc)), train_acc, label=\"train accuracy\")\n",
    "plt.plot(range(len(valid_acc)), valid_acc, label=\"valid accuracy\")\n",
    "plt.hlines(y=acc_loadback, xmin=0, xmax=len(train_loss), colors='r', linestyles='--')\n",
    "plt.legend()\n",
    "plt.title(\"Accuracy\")\n",
    "plt.show()"
   ]
  }
 ],
 "metadata": {
  "kernelspec": {
   "display_name": "Python 3",
   "language": "python",
   "name": "python3"
  },
  "language_info": {
   "codemirror_mode": {
    "name": "ipython",
    "version": 3
   },
   "file_extension": ".py",
   "mimetype": "text/x-python",
   "name": "python",
   "nbconvert_exporter": "python",
   "pygments_lexer": "ipython3",
   "version": "3.8.3"
  }
 },
 "nbformat": 4,
 "nbformat_minor": 2
}
