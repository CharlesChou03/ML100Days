{
 "cells": [
  {
   "cell_type": "markdown",
   "metadata": {},
   "source": [
    "## Work\n",
    "1. 試比較 save_best_only 與否的差異\n",
    "2. 請僅存入將 save_weights_only 設定為 True, 並嘗試 reset ipynb 並將模型與權重重新建回並預測 x_test"
   ]
  },
  {
   "cell_type": "code",
   "execution_count": 11,
   "metadata": {},
   "outputs": [],
   "source": [
    "import os\n",
    "import keras\n",
    "\n",
    "# Disable GPU\n",
    "os.environ[\"CUDA_VISIBLE_DEVICES\"] = \"\""
   ]
  },
  {
   "cell_type": "code",
   "execution_count": 12,
   "metadata": {},
   "outputs": [],
   "source": [
    "train, test = keras.datasets.cifar10.load_data()"
   ]
  },
  {
   "cell_type": "code",
   "execution_count": 13,
   "metadata": {},
   "outputs": [],
   "source": [
    "## 資料前處理\n",
    "def preproc_x(x, flatten=True):\n",
    "    x = x / 255.\n",
    "    if flatten:\n",
    "        x = x.reshape((len(x), -1))\n",
    "    return x\n",
    "\n",
    "def preproc_y(y, num_classes=10):\n",
    "    if y.shape[-1] == 1:\n",
    "        y = keras.utils.to_categorical(y, num_classes)\n",
    "    return y    "
   ]
  },
  {
   "cell_type": "code",
   "execution_count": 14,
   "metadata": {},
   "outputs": [],
   "source": [
    "x_train, y_train = train\n",
    "x_test, y_test = test\n",
    "\n",
    "# Preproc the inputs\n",
    "x_train = preproc_x(x_train)\n",
    "x_test = preproc_x(x_test)\n",
    "\n",
    "# Preprc the outputs\n",
    "y_train = preproc_y(y_train)\n",
    "y_test = preproc_y(y_test)"
   ]
  },
  {
   "cell_type": "code",
   "execution_count": 15,
   "metadata": {},
   "outputs": [],
   "source": [
    "from keras.layers import BatchNormalization\n",
    "\n",
    "\"\"\"\n",
    "建立神經網路，並加入 BN layer\n",
    "\"\"\"\n",
    "def build_mlp(input_shape, output_units=10, num_neurons=[512, 256, 128]):\n",
    "    input_layer = keras.layers.Input(input_shape)\n",
    "    \n",
    "    for i, n_units in enumerate(num_neurons):\n",
    "        if i == 0:\n",
    "            x = keras.layers.Dense(units=n_units, \n",
    "                                   activation=\"relu\", \n",
    "                                   name=\"hidden_layer\"+str(i+1))(input_layer)\n",
    "            x = BatchNormalization()(x)\n",
    "        else:\n",
    "            x = keras.layers.Dense(units=n_units, \n",
    "                                   activation=\"relu\", \n",
    "                                   name=\"hidden_layer\"+str(i+1))(x)\n",
    "            x = BatchNormalization()(x)\n",
    "    \n",
    "    out = keras.layers.Dense(units=output_units, activation=\"softmax\", name=\"output\")(x)\n",
    "    \n",
    "    model = keras.models.Model(inputs=[input_layer], outputs=[out])\n",
    "    return model"
   ]
  },
  {
   "cell_type": "code",
   "execution_count": 16,
   "metadata": {},
   "outputs": [],
   "source": [
    "\"\"\"Code Here\n",
    "設定超參數\n",
    "\"\"\"\n",
    "LEARNING_RATE = 1e-3\n",
    "EPOCHS = 50\n",
    "BATCH_SIZE = 1024\n",
    "MOMENTUM = 0.95"
   ]
  },
  {
   "cell_type": "code",
   "execution_count": 17,
   "metadata": {},
   "outputs": [
    {
     "name": "stdout",
     "output_type": "stream",
     "text": [
      "Model: \"functional_3\"\n",
      "_________________________________________________________________\n",
      "Layer (type)                 Output Shape              Param #   \n",
      "=================================================================\n",
      "input_2 (InputLayer)         [(None, 3072)]            0         \n",
      "_________________________________________________________________\n",
      "hidden_layer1 (Dense)        (None, 512)               1573376   \n",
      "_________________________________________________________________\n",
      "batch_normalization_3 (Batch (None, 512)               2048      \n",
      "_________________________________________________________________\n",
      "hidden_layer2 (Dense)        (None, 256)               131328    \n",
      "_________________________________________________________________\n",
      "batch_normalization_4 (Batch (None, 256)               1024      \n",
      "_________________________________________________________________\n",
      "hidden_layer3 (Dense)        (None, 128)               32896     \n",
      "_________________________________________________________________\n",
      "batch_normalization_5 (Batch (None, 128)               512       \n",
      "_________________________________________________________________\n",
      "output (Dense)               (None, 10)                1290      \n",
      "=================================================================\n",
      "Total params: 1,742,474\n",
      "Trainable params: 1,740,682\n",
      "Non-trainable params: 1,792\n",
      "_________________________________________________________________\n",
      "Epoch 1/50\n",
      "49/49 [==============================] - 5s 101ms/step - loss: 2.1930 - accuracy: 0.2704 - val_loss: 2.1226 - val_accuracy: 0.2366\n",
      "Epoch 2/50\n",
      "49/49 [==============================] - 5s 95ms/step - loss: 1.7475 - accuracy: 0.3910 - val_loss: 1.9628 - val_accuracy: 0.3065\n",
      "Epoch 3/50\n",
      "49/49 [==============================] - 5s 95ms/step - loss: 1.6288 - accuracy: 0.4289 - val_loss: 1.8353 - val_accuracy: 0.3566\n",
      "Epoch 4/50\n",
      "49/49 [==============================] - 4s 88ms/step - loss: 1.5545 - accuracy: 0.4559 - val_loss: 1.7330 - val_accuracy: 0.3911\n",
      "Epoch 5/50\n",
      "49/49 [==============================] - 4s 88ms/step - loss: 1.5003 - accuracy: 0.4741 - val_loss: 1.6541 - val_accuracy: 0.4197\n",
      "Epoch 6/50\n",
      "49/49 [==============================] - 4s 91ms/step - loss: 1.4566 - accuracy: 0.4907 - val_loss: 1.5894 - val_accuracy: 0.4419\n",
      "Epoch 7/50\n",
      "49/49 [==============================] - 4s 87ms/step - loss: 1.4169 - accuracy: 0.5050 - val_loss: 1.5594 - val_accuracy: 0.4544\n",
      "Epoch 8/50\n",
      "49/49 [==============================] - 4s 90ms/step - loss: 1.3824 - accuracy: 0.5176 - val_loss: 1.5369 - val_accuracy: 0.4584\n",
      "Epoch 9/50\n",
      "49/49 [==============================] - 4s 89ms/step - loss: 1.3509 - accuracy: 0.5306 - val_loss: 1.5146 - val_accuracy: 0.4639\n",
      "Epoch 10/50\n",
      "49/49 [==============================] - 4s 90ms/step - loss: 1.3227 - accuracy: 0.5405 - val_loss: 1.5008 - val_accuracy: 0.4722\n",
      "Epoch 11/50\n",
      "49/49 [==============================] - 4s 92ms/step - loss: 1.2956 - accuracy: 0.5511 - val_loss: 1.4918 - val_accuracy: 0.4719\n",
      "Epoch 12/50\n",
      "49/49 [==============================] - 4s 89ms/step - loss: 1.2682 - accuracy: 0.5613 - val_loss: 1.4823 - val_accuracy: 0.4762\n",
      "Epoch 13/50\n",
      "49/49 [==============================] - 5s 93ms/step - loss: 1.2439 - accuracy: 0.5697 - val_loss: 1.4804 - val_accuracy: 0.4766\n",
      "Epoch 14/50\n",
      "49/49 [==============================] - 5s 93ms/step - loss: 1.2205 - accuracy: 0.5806 - val_loss: 1.4906 - val_accuracy: 0.4755\n",
      "Epoch 15/50\n",
      "49/49 [==============================] - 5s 94ms/step - loss: 1.1957 - accuracy: 0.5886 - val_loss: 1.4652 - val_accuracy: 0.4823\n",
      "Epoch 16/50\n",
      "49/49 [==============================] - 4s 91ms/step - loss: 1.1725 - accuracy: 0.5987 - val_loss: 1.4852 - val_accuracy: 0.4747\n",
      "Epoch 17/50\n",
      "49/49 [==============================] - 5s 99ms/step - loss: 1.1497 - accuracy: 0.6066 - val_loss: 1.4605 - val_accuracy: 0.4881\n",
      "Epoch 18/50\n",
      "49/49 [==============================] - 5s 94ms/step - loss: 1.1282 - accuracy: 0.6131 - val_loss: 1.4606 - val_accuracy: 0.4871\n",
      "Epoch 19/50\n",
      "49/49 [==============================] - 5s 102ms/step - loss: 1.1053 - accuracy: 0.6230 - val_loss: 1.4616 - val_accuracy: 0.4875\n",
      "Epoch 20/50\n",
      "49/49 [==============================] - 5s 98ms/step - loss: 1.0815 - accuracy: 0.6324 - val_loss: 1.4507 - val_accuracy: 0.4943\n",
      "Epoch 21/50\n",
      "49/49 [==============================] - 5s 95ms/step - loss: 1.0590 - accuracy: 0.6402 - val_loss: 1.4578 - val_accuracy: 0.4894\n",
      "Epoch 22/50\n",
      "49/49 [==============================] - 5s 96ms/step - loss: 1.0379 - accuracy: 0.6504 - val_loss: 1.4568 - val_accuracy: 0.4941\n",
      "Epoch 23/50\n",
      "49/49 [==============================] - 5s 96ms/step - loss: 1.0168 - accuracy: 0.6574 - val_loss: 1.4617 - val_accuracy: 0.4921\n",
      "Epoch 24/50\n",
      "49/49 [==============================] - 5s 99ms/step - loss: 0.9951 - accuracy: 0.6671 - val_loss: 1.5001 - val_accuracy: 0.4884\n",
      "Epoch 25/50\n",
      "49/49 [==============================] - 5s 104ms/step - loss: 0.9759 - accuracy: 0.6713 - val_loss: 1.4757 - val_accuracy: 0.4905\n",
      "Epoch 26/50\n",
      "49/49 [==============================] - 5s 99ms/step - loss: 0.9549 - accuracy: 0.6808 - val_loss: 1.4859 - val_accuracy: 0.4894\n",
      "Epoch 27/50\n",
      "49/49 [==============================] - 5s 95ms/step - loss: 0.9371 - accuracy: 0.6886 - val_loss: 1.4904 - val_accuracy: 0.4916\n",
      "Epoch 28/50\n",
      "49/49 [==============================] - 5s 95ms/step - loss: 0.9162 - accuracy: 0.6960 - val_loss: 1.4734 - val_accuracy: 0.4896\n",
      "Epoch 29/50\n",
      "49/49 [==============================] - 5s 94ms/step - loss: 0.8945 - accuracy: 0.7046 - val_loss: 1.4910 - val_accuracy: 0.4928\n",
      "Epoch 30/50\n",
      "49/49 [==============================] - 5s 93ms/step - loss: 0.8745 - accuracy: 0.7128 - val_loss: 1.4939 - val_accuracy: 0.4906\n",
      "Epoch 31/50\n",
      "49/49 [==============================] - 5s 94ms/step - loss: 0.8533 - accuracy: 0.7229 - val_loss: 1.4789 - val_accuracy: 0.4951\n",
      "Epoch 32/50\n",
      "49/49 [==============================] - 5s 95ms/step - loss: 0.8326 - accuracy: 0.7293 - val_loss: 1.4939 - val_accuracy: 0.4971\n",
      "Epoch 33/50\n",
      "49/49 [==============================] - 4s 91ms/step - loss: 0.8122 - accuracy: 0.7364 - val_loss: 1.5047 - val_accuracy: 0.4924\n",
      "Epoch 34/50\n",
      "49/49 [==============================] - 5s 99ms/step - loss: 0.7943 - accuracy: 0.7446 - val_loss: 1.5032 - val_accuracy: 0.4937\n",
      "Epoch 35/50\n",
      "49/49 [==============================] - 5s 94ms/step - loss: 0.7753 - accuracy: 0.7524 - val_loss: 1.5323 - val_accuracy: 0.4875\n",
      "Epoch 36/50\n",
      "49/49 [==============================] - 5s 110ms/step - loss: 0.7540 - accuracy: 0.7608 - val_loss: 1.5232 - val_accuracy: 0.4940\n",
      "Epoch 37/50\n",
      "49/49 [==============================] - 7s 149ms/step - loss: 0.7359 - accuracy: 0.7689 - val_loss: 1.5223 - val_accuracy: 0.4952\n",
      "Epoch 38/50\n",
      "49/49 [==============================] - 6s 118ms/step - loss: 0.7175 - accuracy: 0.7750 - val_loss: 1.5447 - val_accuracy: 0.4908\n",
      "Epoch 39/50\n",
      "49/49 [==============================] - 7s 142ms/step - loss: 0.6982 - accuracy: 0.7823 - val_loss: 1.5585 - val_accuracy: 0.4918\n",
      "Epoch 40/50\n",
      "49/49 [==============================] - 7s 135ms/step - loss: 0.6799 - accuracy: 0.7884 - val_loss: 1.5614 - val_accuracy: 0.4884\n",
      "Epoch 41/50\n",
      "49/49 [==============================] - 5s 102ms/step - loss: 0.6622 - accuracy: 0.7960 - val_loss: 1.5729 - val_accuracy: 0.4914\n",
      "Epoch 42/50\n",
      "49/49 [==============================] - 5s 108ms/step - loss: 0.6426 - accuracy: 0.8035 - val_loss: 1.5729 - val_accuracy: 0.4928\n",
      "Epoch 43/50\n",
      "49/49 [==============================] - 8s 165ms/step - loss: 0.6246 - accuracy: 0.8098 - val_loss: 1.5891 - val_accuracy: 0.4914\n",
      "Epoch 44/50\n",
      "49/49 [==============================] - 7s 137ms/step - loss: 0.6080 - accuracy: 0.8174 - val_loss: 1.6015 - val_accuracy: 0.4892\n",
      "Epoch 45/50\n",
      "49/49 [==============================] - 5s 106ms/step - loss: 0.5902 - accuracy: 0.8243 - val_loss: 1.6256 - val_accuracy: 0.4883\n",
      "Epoch 46/50\n",
      "49/49 [==============================] - 5s 107ms/step - loss: 0.5717 - accuracy: 0.8342 - val_loss: 1.6346 - val_accuracy: 0.4877\n",
      "Epoch 47/50\n",
      "49/49 [==============================] - 5s 106ms/step - loss: 0.5559 - accuracy: 0.8372 - val_loss: 1.6343 - val_accuracy: 0.4933\n",
      "Epoch 48/50\n"
     ]
    },
    {
     "name": "stdout",
     "output_type": "stream",
     "text": [
      "49/49 [==============================] - 6s 122ms/step - loss: 0.5382 - accuracy: 0.8439 - val_loss: 1.6575 - val_accuracy: 0.4874\n",
      "Epoch 49/50\n",
      "49/49 [==============================] - 6s 117ms/step - loss: 0.5224 - accuracy: 0.8509 - val_loss: 1.6641 - val_accuracy: 0.4914\n",
      "Epoch 50/50\n",
      "49/49 [==============================] - 6s 120ms/step - loss: 0.5063 - accuracy: 0.8565 - val_loss: 1.6817 - val_accuracy: 0.4878\n"
     ]
    }
   ],
   "source": [
    "# 載入 Callbacks\n",
    "\"\"\"Code Here\n",
    "設定 callbacks: model checkpoint\n",
    "\"\"\"\n",
    "from keras.callbacks import ModelCheckpoint\n",
    "\n",
    "model_ckpt = ModelCheckpoint(filepath=\"./tmp.h5\", \n",
    "                             monitor=\"val_loss\", \n",
    "                             save_best_only=True)\n",
    "\n",
    "\n",
    "\"\"\"Code Here\n",
    "撰寫你的訓練流程並將結果用 dictionary 紀錄\n",
    "\"\"\"\n",
    "model = build_mlp(input_shape=x_train.shape[1:])\n",
    "model.summary()\n",
    "optimizer = keras.optimizers.SGD(lr=LEARNING_RATE, nesterov=True, momentum=MOMENTUM)\n",
    "model.compile(loss=\"categorical_crossentropy\", metrics=[\"accuracy\"], optimizer=optimizer)\n",
    "\n",
    "model.fit(x_train, y_train, \n",
    "          epochs=EPOCHS, \n",
    "          batch_size=BATCH_SIZE, \n",
    "          validation_data=(x_test, y_test), \n",
    "          shuffle=True,\n",
    "          callbacks=[model_ckpt]\n",
    "         )\n",
    "model.save(\"final_model.h5\")\n",
    "model.save_weights(\"model_weights.h5\")"
   ]
  },
  {
   "cell_type": "code",
   "execution_count": 18,
   "metadata": {},
   "outputs": [],
   "source": [
    "# Collect results\n",
    "train_loss = model.history.history[\"loss\"]\n",
    "valid_loss = model.history.history[\"val_loss\"]\n",
    "train_acc = model.history.history[\"accuracy\"]\n",
    "valid_acc = model.history.history[\"val_accuracy\"]\n",
    "\n",
    "\n",
    "pred_final = model.predict(x_test)\n",
    "# Load back save_best_only = True\n",
    "model = keras.models.load_model(\"./tmp.h5\")\n",
    "pred_loadback = model.predict(x_test)"
   ]
  },
  {
   "cell_type": "code",
   "execution_count": 23,
   "metadata": {
    "scrolled": true
   },
   "outputs": [
    {
     "name": "stdout",
     "output_type": "stream",
     "text": [
      "Accuracy of final (accuracy best) weights: 0.488\n",
      "Accuracy of val_accuracy best weights: 0.494\n"
     ]
    }
   ],
   "source": [
    "from sklearn.metrics import accuracy_score\n",
    "\n",
    "final_model_acc = accuracy_score(y_true=y_test.argmax(axis=-1), y_pred=pred_final.argmax(axis=-1))\n",
    "loadback_acc = accuracy_score(y_true=y_test.argmax(axis=-1), y_pred=pred_loadback.argmax(axis=-1))\n",
    "\n",
    "print(\"Accuracy of final (accuracy best) weights: %.3f\" % final_model_acc)\n",
    "print(\"Accuracy of val_accuracy best weights: %.3f\" % loadback_acc)"
   ]
  },
  {
   "cell_type": "code",
   "execution_count": 24,
   "metadata": {},
   "outputs": [
    {
     "name": "stdout",
     "output_type": "stream",
     "text": [
      "Accuracy of new model weights: 0.073\n",
      "Accuracy of accuracy best weights: 0.488\n"
     ]
    }
   ],
   "source": [
    "new_model = build_mlp(input_shape=x_train.shape[1:])\n",
    "new_model_pred = new_model.predict(x_test)\n",
    "new_model_acc = accuracy_score(y_true=y_test.argmax(axis=-1), y_pred=new_model_pred.argmax(axis=-1))\n",
    "print(\"Accuracy of new model weights: %.3f\" % new_model_acc)\n",
    "\n",
    "new_model.load_weights(\"./model_weights.h5\")\n",
    "new_model_pred = new_model.predict(x_test)\n",
    "new_model_loadback_acc = accuracy_score(y_true=y_test.argmax(axis=-1), y_pred=new_model_pred.argmax(axis=-1))\n",
    "print(\"Accuracy of accuracy best weights: %.3f\" % new_model_loadback_acc)"
   ]
  }
 ],
 "metadata": {
  "kernelspec": {
   "display_name": "Python 3",
   "language": "python",
   "name": "python3"
  },
  "language_info": {
   "codemirror_mode": {
    "name": "ipython",
    "version": 3
   },
   "file_extension": ".py",
   "mimetype": "text/x-python",
   "name": "python",
   "nbconvert_exporter": "python",
   "pygments_lexer": "ipython3",
   "version": "3.8.3"
  }
 },
 "nbformat": 4,
 "nbformat_minor": 2
}
