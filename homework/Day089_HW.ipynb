{
 "cells": [
  {
   "cell_type": "markdown",
   "metadata": {},
   "source": [
    "## Work\n",
    "1. 請自行定義一個 loss function, 為 0.3 * focal loss + 0.7 cross-entropy，訓練並比較結果\n"
   ]
  },
  {
   "cell_type": "code",
   "execution_count": 7,
   "metadata": {},
   "outputs": [],
   "source": [
    "import os\n",
    "import keras\n",
    "\n",
    "# Disable GPU\n",
    "os.environ[\"CUDA_VISIBLE_DEVICES\"] = \"\""
   ]
  },
  {
   "cell_type": "code",
   "execution_count": 8,
   "metadata": {},
   "outputs": [],
   "source": [
    "train, test = keras.datasets.cifar10.load_data()"
   ]
  },
  {
   "cell_type": "code",
   "execution_count": 9,
   "metadata": {},
   "outputs": [],
   "source": [
    "## 資料前處理\n",
    "def preproc_x(x, flatten=True):\n",
    "    x = x / 255.\n",
    "    if flatten:\n",
    "        x = x.reshape((len(x), -1))\n",
    "    return x\n",
    "\n",
    "def preproc_y(y, num_classes=10):\n",
    "    if y.shape[-1] == 1:\n",
    "        y = keras.utils.to_categorical(y, num_classes)\n",
    "    return y    "
   ]
  },
  {
   "cell_type": "code",
   "execution_count": 10,
   "metadata": {},
   "outputs": [],
   "source": [
    "x_train, y_train = train\n",
    "x_test, y_test = test\n",
    "\n",
    "# Preproc the inputs\n",
    "x_train = preproc_x(x_train)\n",
    "x_test = preproc_x(x_test)\n",
    "\n",
    "# Preprc the outputs\n",
    "y_train = preproc_y(y_train)\n",
    "y_test = preproc_y(y_test)"
   ]
  },
  {
   "cell_type": "code",
   "execution_count": 11,
   "metadata": {},
   "outputs": [],
   "source": [
    "from keras.layers import BatchNormalization\n",
    "\n",
    "\"\"\"\n",
    "建立神經網路，並加入 BN layer\n",
    "\"\"\"\n",
    "def build_mlp(input_shape, output_units=10, num_neurons=[512, 256, 128]):\n",
    "    input_layer = keras.layers.Input(input_shape)\n",
    "    \n",
    "    for i, n_units in enumerate(num_neurons):\n",
    "        if i == 0:\n",
    "            x = keras.layers.Dense(units=n_units, \n",
    "                                   activation=\"relu\", \n",
    "                                   name=\"hidden_layer\"+str(i+1))(input_layer)\n",
    "            x = BatchNormalization()(x)\n",
    "        else:\n",
    "            x = keras.layers.Dense(units=n_units, \n",
    "                                   activation=\"relu\", \n",
    "                                   name=\"hidden_layer\"+str(i+1))(x)\n",
    "            x = BatchNormalization()(x)\n",
    "    \n",
    "    out = keras.layers.Dense(units=output_units, activation=\"softmax\", name=\"output\")(x)\n",
    "    \n",
    "    model = keras.models.Model(inputs=[input_layer], outputs=[out])\n",
    "    return model"
   ]
  },
  {
   "cell_type": "code",
   "execution_count": 21,
   "metadata": {},
   "outputs": [],
   "source": [
    "## 超參數設定\n",
    "LEARNING_RATE = 1e-3\n",
    "EPOCHS = 25\n",
    "BATCH_SIZE = 1024\n",
    "MOMENTUM = 0.95"
   ]
  },
  {
   "cell_type": "code",
   "execution_count": 22,
   "metadata": {},
   "outputs": [],
   "source": [
    "import tensorflow as tf\n",
    "import keras.backend as K\n",
    "\n",
    "\"\"\"Code Here\n",
    "撰寫一個 loss function, 使其可以結合 focal loss 與 crossentropy loss\n",
    "\"\"\"\n",
    "def combined_loss(gamma=2., alpha=4., ce_weights=0.7, fcl_weights=0.3):\n",
    "    \"\"\"Define the customized loss.\"\"\"\n",
    "    gamma = float(gamma)\n",
    "    alpha = float(alpha)\n",
    "    def CE_focal_loss(y_true, y_pred):\n",
    "        \"\"\"Focal loss for multi-classification\n",
    "        FL(p_t)=-alpha(1-p_t)^{gamma}ln(p_t)\n",
    "        \"\"\"\n",
    "        epsilon = 1e-8\n",
    "        y_true = tf.convert_to_tensor(y_true, tf.float32)\n",
    "        y_pred = tf.convert_to_tensor(y_pred, tf.float32)\n",
    "\n",
    "        model_out = tf.add(y_pred, epsilon)\n",
    "        ce = tf.multiply(y_true, -tf.math.log(model_out))\n",
    "        weight = tf.multiply(y_true, tf.pow(tf.subtract(1., model_out), gamma))\n",
    "        fl = tf.multiply(alpha, tf.multiply(weight, ce))\n",
    "        reduced_fl = tf.reduce_max(fl, axis=1)\n",
    "        \n",
    "        ce_loss = keras.losses.categorical_crossentropy(y_true, y_pred)\n",
    "        return (ce_weights*ce_loss) + (fcl_weights*tf.reduce_mean(reduced_fl) )\n",
    "    return CE_focal_loss\n",
    "\n",
    "ce_weights_list = [0.7]"
   ]
  },
  {
   "cell_type": "code",
   "execution_count": 23,
   "metadata": {
    "scrolled": true
   },
   "outputs": [
    {
     "name": "stdout",
     "output_type": "stream",
     "text": [
      "Numbers of exp: 0, ce_weight: 0.70\n",
      "Model: \"functional_7\"\n",
      "_________________________________________________________________\n",
      "Layer (type)                 Output Shape              Param #   \n",
      "=================================================================\n",
      "input_4 (InputLayer)         [(None, 3072)]            0         \n",
      "_________________________________________________________________\n",
      "hidden_layer1 (Dense)        (None, 512)               1573376   \n",
      "_________________________________________________________________\n",
      "batch_normalization_9 (Batch (None, 512)               2048      \n",
      "_________________________________________________________________\n",
      "hidden_layer2 (Dense)        (None, 256)               131328    \n",
      "_________________________________________________________________\n",
      "batch_normalization_10 (Batc (None, 256)               1024      \n",
      "_________________________________________________________________\n",
      "hidden_layer3 (Dense)        (None, 128)               32896     \n",
      "_________________________________________________________________\n",
      "batch_normalization_11 (Batc (None, 128)               512       \n",
      "_________________________________________________________________\n",
      "output (Dense)               (None, 10)                1290      \n",
      "=================================================================\n",
      "Total params: 1,742,474\n",
      "Trainable params: 1,740,682\n",
      "Non-trainable params: 1,792\n",
      "_________________________________________________________________\n",
      "Epoch 1/25\n",
      "49/49 [==============================] - 5s 98ms/step - loss: 3.4576 - accuracy: 0.2931 - val_loss: 3.3429 - val_accuracy: 0.2540\n",
      "Epoch 2/25\n",
      "49/49 [==============================] - 5s 94ms/step - loss: 2.5918 - accuracy: 0.4152 - val_loss: 3.0160 - val_accuracy: 0.3314\n",
      "Epoch 3/25\n",
      "49/49 [==============================] - 5s 95ms/step - loss: 2.3730 - accuracy: 0.4579 - val_loss: 2.7487 - val_accuracy: 0.3856\n",
      "Epoch 4/25\n",
      "49/49 [==============================] - 5s 101ms/step - loss: 2.2422 - accuracy: 0.4842 - val_loss: 2.5577 - val_accuracy: 0.4227\n",
      "Epoch 5/25\n",
      "49/49 [==============================] - 6s 126ms/step - loss: 2.1366 - accuracy: 0.5040 - val_loss: 2.4241 - val_accuracy: 0.4421\n",
      "Epoch 6/25\n",
      "49/49 [==============================] - 8s 158ms/step - loss: 2.0544 - accuracy: 0.5211 - val_loss: 2.3386 - val_accuracy: 0.4519\n",
      "Epoch 7/25\n",
      "49/49 [==============================] - 7s 148ms/step - loss: 1.9832 - accuracy: 0.5361 - val_loss: 2.2898 - val_accuracy: 0.4631\n",
      "Epoch 8/25\n",
      "49/49 [==============================] - 7s 146ms/step - loss: 1.9119 - accuracy: 0.5501 - val_loss: 2.2728 - val_accuracy: 0.4659\n",
      "Epoch 9/25\n",
      "49/49 [==============================] - 7s 144ms/step - loss: 1.8513 - accuracy: 0.5645 - val_loss: 2.2289 - val_accuracy: 0.4737\n",
      "Epoch 10/25\n",
      "49/49 [==============================] - 6s 122ms/step - loss: 1.7897 - accuracy: 0.5773 - val_loss: 2.2510 - val_accuracy: 0.4751\n",
      "Epoch 11/25\n",
      "49/49 [==============================] - 5s 109ms/step - loss: 1.7359 - accuracy: 0.5873 - val_loss: 2.2142 - val_accuracy: 0.4796\n",
      "Epoch 12/25\n",
      "49/49 [==============================] - 5s 99ms/step - loss: 1.6833 - accuracy: 0.6003 - val_loss: 2.2090 - val_accuracy: 0.4828\n",
      "Epoch 13/25\n",
      "49/49 [==============================] - 5s 93ms/step - loss: 1.6284 - accuracy: 0.6125 - val_loss: 2.2086 - val_accuracy: 0.4844\n",
      "Epoch 14/25\n",
      "49/49 [==============================] - 5s 100ms/step - loss: 1.5757 - accuracy: 0.6241 - val_loss: 2.1953 - val_accuracy: 0.4922\n",
      "Epoch 15/25\n",
      "49/49 [==============================] - 5s 95ms/step - loss: 1.5250 - accuracy: 0.6382 - val_loss: 2.2361 - val_accuracy: 0.4843\n",
      "Epoch 16/25\n",
      "49/49 [==============================] - 4s 90ms/step - loss: 1.4771 - accuracy: 0.6476 - val_loss: 2.2077 - val_accuracy: 0.4924\n",
      "Epoch 17/25\n",
      "49/49 [==============================] - 4s 92ms/step - loss: 1.4264 - accuracy: 0.6576 - val_loss: 2.2128 - val_accuracy: 0.4890\n",
      "Epoch 18/25\n",
      "49/49 [==============================] - 5s 98ms/step - loss: 1.3781 - accuracy: 0.6705 - val_loss: 2.2072 - val_accuracy: 0.4963\n",
      "Epoch 19/25\n",
      "49/49 [==============================] - 5s 97ms/step - loss: 1.3311 - accuracy: 0.6796 - val_loss: 2.2446 - val_accuracy: 0.4891\n",
      "Epoch 20/25\n",
      "49/49 [==============================] - 5s 93ms/step - loss: 1.2875 - accuracy: 0.6921 - val_loss: 2.2726 - val_accuracy: 0.4908\n",
      "Epoch 21/25\n",
      "49/49 [==============================] - 4s 90ms/step - loss: 1.2435 - accuracy: 0.6998 - val_loss: 2.2380 - val_accuracy: 0.4949\n",
      "Epoch 22/25\n",
      "49/49 [==============================] - 4s 89ms/step - loss: 1.1968 - accuracy: 0.7120 - val_loss: 2.3494 - val_accuracy: 0.4820\n",
      "Epoch 23/25\n",
      "49/49 [==============================] - 4s 89ms/step - loss: 1.1524 - accuracy: 0.7222 - val_loss: 2.2954 - val_accuracy: 0.4897\n",
      "Epoch 24/25\n",
      "49/49 [==============================] - 4s 92ms/step - loss: 1.1078 - accuracy: 0.7346 - val_loss: 2.3147 - val_accuracy: 0.4868\n",
      "Epoch 25/25\n",
      "49/49 [==============================] - 4s 89ms/step - loss: 1.0667 - accuracy: 0.7440 - val_loss: 2.3664 - val_accuracy: 0.4832\n"
     ]
    }
   ],
   "source": [
    "import itertools\n",
    "results = {}\n",
    "\n",
    "for i, ce_w in enumerate(ce_weights_list):\n",
    "    print(\"Numbers of exp: %i, ce_weight: %.2f\" % (i, ce_w))\n",
    "    model = build_mlp(input_shape=x_train.shape[1:])\n",
    "    model.summary()\n",
    "    optimizer = keras.optimizers.SGD(lr=LEARNING_RATE, nesterov=True, momentum=MOMENTUM)\n",
    "    \"\"\"Code Here\n",
    "    將自定義的 loss function 加入模型\n",
    "    \"\"\"\n",
    "    model.compile(loss=combined_loss(ce_weights=ce_w, fcl_weights=1.-ce_w), \n",
    "                  metrics=[\"accuracy\"], optimizer=optimizer)\n",
    "    model.fit(x_train, y_train, \n",
    "              epochs=EPOCHS, \n",
    "              batch_size=BATCH_SIZE, \n",
    "              validation_data=(x_test, y_test), \n",
    "              shuffle=True\n",
    "             )\n",
    "    \n",
    "    # Collect results\n",
    "    exp_name_tag = (\"exp-%s\" % (i))\n",
    "    results[exp_name_tag] = {'train-loss': model.history.history[\"loss\"],\n",
    "                             'valid-loss': model.history.history[\"val_loss\"],\n",
    "                             'train-acc': model.history.history[\"accuracy\"],\n",
    "                             'valid-acc': model.history.history[\"val_accuracy\"]}"
   ]
  },
  {
   "cell_type": "code",
   "execution_count": 24,
   "metadata": {},
   "outputs": [
    {
     "data": {
      "image/png": "[encoded data removed]",
      "text/plain": [
       "<Figure size 576x432 with 1 Axes>"
      ]
     },
     "metadata": {
      "needs_background": "light"
     },
     "output_type": "display_data"
    },
    {
     "data": {
      "image/png": "[encoded data removed]",
      "text/plain": [
       "<Figure size 576x432 with 1 Axes>"
      ]
     },
     "metadata": {
      "needs_background": "light"
     },
     "output_type": "display_data"
    }
   ],
   "source": [
    "import matplotlib.pyplot as plt\n",
    "import matplotlib.cm as mplcm\n",
    "import matplotlib.colors as colors\n",
    "%matplotlib inline\n",
    "NUM_COLORS = len(results.keys())\n",
    "\n",
    "cm = plt.get_cmap('gist_rainbow')\n",
    "cNorm  = colors.Normalize(vmin=0, vmax=NUM_COLORS-1)\n",
    "scalarMap = mplcm.ScalarMappable(norm=cNorm, cmap=cm)\n",
    "color_bar = [scalarMap.to_rgba(i) for i in range(NUM_COLORS)]\n",
    "\n",
    "plt.figure(figsize=(8,6))\n",
    "for i, cond in enumerate(results.keys()):\n",
    "    plt.plot(range(len(results[cond]['train-loss'])),results[cond]['train-loss'], '-', label=cond, color=color_bar[i])\n",
    "    plt.plot(range(len(results[cond]['valid-loss'])),results[cond]['valid-loss'], '--', label=cond, color=color_bar[i])\n",
    "plt.title(\"Loss\")\n",
    "plt.legend(loc='center left', bbox_to_anchor=(1, 0.5))\n",
    "plt.show()\n",
    "\n",
    "plt.figure(figsize=(8,6))\n",
    "for i, cond in enumerate(results.keys()):\n",
    "    plt.plot(range(len(results[cond]['train-acc'])),results[cond]['train-acc'], '-', label=cond, color=color_bar[i])\n",
    "    plt.plot(range(len(results[cond]['valid-acc'])),results[cond]['valid-acc'], '--', label=cond, color=color_bar[i])\n",
    "plt.title(\"Accuracy\")\n",
    "plt.legend(loc='center left', bbox_to_anchor=(1, 0.5))\n",
    "plt.show()"
   ]
  }
 ],
 "metadata": {
  "kernelspec": {
   "display_name": "Python 3",
   "language": "python",
   "name": "python3"
  },
  "language_info": {
   "codemirror_mode": {
    "name": "ipython",
    "version": 3
   },
   "file_extension": ".py",
   "mimetype": "text/x-python",
   "name": "python",
   "nbconvert_exporter": "python",
   "pygments_lexer": "ipython3",
   "version": "3.8.3"
  }
 },
 "nbformat": 4,
 "nbformat_minor": 2
}
