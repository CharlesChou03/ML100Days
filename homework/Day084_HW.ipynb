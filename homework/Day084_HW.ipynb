{
 "cells": [
  {
   "cell_type": "markdown",
   "metadata": {},
   "source": [
    "## Work\n",
    "### 請結合前面的知識與程式碼，比較不同的 regularization 的組合對訓練的結果與影響：如 dropout, regularizers, batch-normalization 等"
   ]
  },
  {
   "cell_type": "code",
   "execution_count": 29,
   "metadata": {},
   "outputs": [],
   "source": [
    "import os\n",
    "import keras\n",
    "import itertools\n",
    "# Disable GPU\n",
    "os.environ[\"CUDA_VISIBLE_DEVICES\"] = \"\""
   ]
  },
  {
   "cell_type": "code",
   "execution_count": 30,
   "metadata": {},
   "outputs": [],
   "source": [
    "train, test = keras.datasets.cifar10.load_data()"
   ]
  },
  {
   "cell_type": "code",
   "execution_count": 31,
   "metadata": {},
   "outputs": [],
   "source": [
    "## 資料前處理\n",
    "def preproc_x(x, flatten=True):\n",
    "    x = x / 255.\n",
    "    if flatten:\n",
    "        x = x.reshape((len(x), -1))\n",
    "    return x\n",
    "\n",
    "def preproc_y(y, num_classes=10):\n",
    "    if y.shape[-1] == 1:\n",
    "        y = keras.utils.to_categorical(y, num_classes)\n",
    "    return y    "
   ]
  },
  {
   "cell_type": "code",
   "execution_count": 32,
   "metadata": {},
   "outputs": [],
   "source": [
    "x_train, y_train = train\n",
    "x_test, y_test = test\n",
    "\n",
    "# Preproc the inputs\n",
    "x_train = preproc_x(x_train)\n",
    "x_test = preproc_x(x_test)\n",
    "\n",
    "# Preprc the outputs\n",
    "y_train = preproc_y(y_train)\n",
    "y_test = preproc_y(y_test)"
   ]
  },
  {
   "cell_type": "code",
   "execution_count": 33,
   "metadata": {},
   "outputs": [],
   "source": [
    "from keras.regularizers import l1_l2\n",
    "from keras.layers import Dropout\n",
    "\n",
    "\"\"\"\n",
    "建立神經網路，並加入 L1 或 L2\n",
    "\"\"\"\n",
    "def build_mlp(input_shape, output_units=10, num_neurons=[512, 256, 128], l1_l2_ratio=1e-4, drp_ratio=0.2):\n",
    "    input_layer = keras.layers.Input(input_shape)\n",
    "    \n",
    "    for i, n_units in enumerate(num_neurons):\n",
    "        if i == 0:\n",
    "            x = keras.layers.Dense(units=n_units, \n",
    "                                   activation=\"relu\", \n",
    "                                   name=\"hidden_layer\"+str(i+1), \n",
    "                                   kernel_regularizer=l1_l2(l1_l2_ratio))(input_layer)\n",
    "            x = Dropout(drp_ratio)(x)\n",
    "        else:\n",
    "            x = keras.layers.Dense(units=n_units, \n",
    "                                   activation=\"relu\", \n",
    "                                   name=\"hidden_layer\"+str(i+1),\n",
    "                                   kernel_regularizer=l1_l2(l1_l2_ratio))(x)\n",
    "            x = Dropout(drp_ratio)(x)\n",
    "    \n",
    "    out = keras.layers.Dense(units=output_units, activation=\"softmax\", name=\"output\")(x)\n",
    "    \n",
    "    model = keras.models.Model(inputs=[input_layer], outputs=[out])\n",
    "    return model"
   ]
  },
  {
   "cell_type": "code",
   "execution_count": 34,
   "metadata": {},
   "outputs": [],
   "source": [
    "\"\"\"Code Here\n",
    "設定超參數\n",
    "\"\"\"\n",
    "LEARNING_RATE = 1e-3\n",
    "EPOCHS = 50\n",
    "BATCH_SIZE = 256\n",
    "MOMENTUM = 0.95\n",
    "Dropout_EXP = 0.25\n",
    "L1_L2_EXP = 1e-5"
   ]
  },
  {
   "cell_type": "code",
   "execution_count": 35,
   "metadata": {
    "scrolled": true
   },
   "outputs": [
    {
     "name": "stdout",
     "output_type": "stream",
     "text": [
      "Model: \"functional_9\"\n",
      "_________________________________________________________________\n",
      "Layer (type)                 Output Shape              Param #   \n",
      "=================================================================\n",
      "input_6 (InputLayer)         [(None, 3072)]            0         \n",
      "_________________________________________________________________\n",
      "hidden_layer1 (Dense)        (None, 512)               1573376   \n",
      "_________________________________________________________________\n",
      "dropout_12 (Dropout)         (None, 512)               0         \n",
      "_________________________________________________________________\n",
      "hidden_layer2 (Dense)        (None, 256)               131328    \n",
      "_________________________________________________________________\n",
      "dropout_13 (Dropout)         (None, 256)               0         \n",
      "_________________________________________________________________\n",
      "hidden_layer3 (Dense)        (None, 128)               32896     \n",
      "_________________________________________________________________\n",
      "dropout_14 (Dropout)         (None, 128)               0         \n",
      "_________________________________________________________________\n",
      "output (Dense)               (None, 10)                1290      \n",
      "=================================================================\n",
      "Total params: 1,738,890\n",
      "Trainable params: 1,738,890\n",
      "Non-trainable params: 0\n",
      "_________________________________________________________________\n",
      "Epoch 1/50\n",
      "196/196 [==============================] - 6s 33ms/step - loss: 15.5823 - accuracy: 0.1883 - val_loss: 14.3866 - val_accuracy: 0.3102\n",
      "Epoch 2/50\n",
      "196/196 [==============================] - 7s 35ms/step - loss: 13.4788 - accuracy: 0.2651 - val_loss: 12.4888 - val_accuracy: 0.3348\n",
      "Epoch 3/50\n",
      "196/196 [==============================] - 9s 45ms/step - loss: 11.7431 - accuracy: 0.2997 - val_loss: 10.8995 - val_accuracy: 0.3523\n",
      "Epoch 4/50\n",
      "196/196 [==============================] - 9s 47ms/step - loss: 10.2788 - accuracy: 0.3167 - val_loss: 9.5518 - val_accuracy: 0.3616\n",
      "Epoch 5/50\n",
      "196/196 [==============================] - 9s 44ms/step - loss: 9.0340 - accuracy: 0.3365 - val_loss: 8.4073 - val_accuracy: 0.3798\n",
      "Epoch 6/50\n",
      "196/196 [==============================] - 8s 39ms/step - loss: 7.9722 - accuracy: 0.3480 - val_loss: 7.4310 - val_accuracy: 0.3853\n",
      "Epoch 7/50\n",
      "196/196 [==============================] - 8s 43ms/step - loss: 7.0705 - accuracy: 0.3577 - val_loss: 6.5982 - val_accuracy: 0.3913\n",
      "Epoch 8/50\n",
      "196/196 [==============================] - 7s 34ms/step - loss: 6.3034 - accuracy: 0.3624 - val_loss: 5.8919 - val_accuracy: 0.3955\n",
      "Epoch 9/50\n",
      "196/196 [==============================] - 7s 35ms/step - loss: 5.6438 - accuracy: 0.3681 - val_loss: 5.2873 - val_accuracy: 0.4052\n",
      "Epoch 10/50\n",
      "196/196 [==============================] - 7s 34ms/step - loss: 5.0798 - accuracy: 0.3776 - val_loss: 4.7711 - val_accuracy: 0.4068\n",
      "Epoch 11/50\n",
      "196/196 [==============================] - 7s 34ms/step - loss: 4.6079 - accuracy: 0.3802 - val_loss: 4.3285 - val_accuracy: 0.4115\n",
      "Epoch 12/50\n",
      "196/196 [==============================] - 7s 35ms/step - loss: 4.1968 - accuracy: 0.3855 - val_loss: 3.9549 - val_accuracy: 0.4127\n",
      "Epoch 13/50\n",
      "196/196 [==============================] - 7s 34ms/step - loss: 3.8470 - accuracy: 0.3899 - val_loss: 3.6341 - val_accuracy: 0.4186\n",
      "Epoch 14/50\n",
      "196/196 [==============================] - 7s 34ms/step - loss: 3.5475 - accuracy: 0.3930 - val_loss: 3.3597 - val_accuracy: 0.4234\n",
      "Epoch 15/50\n",
      "196/196 [==============================] - 7s 35ms/step - loss: 3.2926 - accuracy: 0.3970 - val_loss: 3.1244 - val_accuracy: 0.4263\n",
      "Epoch 16/50\n",
      "196/196 [==============================] - 7s 34ms/step - loss: 3.0740 - accuracy: 0.4001 - val_loss: 2.9230 - val_accuracy: 0.4305\n",
      "Epoch 17/50\n",
      "196/196 [==============================] - 7s 36ms/step - loss: 2.8864 - accuracy: 0.4055 - val_loss: 2.7531 - val_accuracy: 0.4305\n",
      "Epoch 18/50\n",
      "196/196 [==============================] - 7s 36ms/step - loss: 2.7272 - accuracy: 0.4060 - val_loss: 2.6013 - val_accuracy: 0.4367\n",
      "Epoch 19/50\n",
      "196/196 [==============================] - 7s 35ms/step - loss: 2.5884 - accuracy: 0.4120 - val_loss: 2.4772 - val_accuracy: 0.4368\n",
      "Epoch 20/50\n",
      "196/196 [==============================] - 7s 35ms/step - loss: 2.4695 - accuracy: 0.4129 - val_loss: 2.3678 - val_accuracy: 0.4407\n",
      "Epoch 21/50\n",
      "196/196 [==============================] - 7s 34ms/step - loss: 2.3753 - accuracy: 0.4107 - val_loss: 2.2798 - val_accuracy: 0.4438\n",
      "Epoch 22/50\n",
      "196/196 [==============================] - 7s 35ms/step - loss: 2.2868 - accuracy: 0.4179 - val_loss: 2.1954 - val_accuracy: 0.4482\n",
      "Epoch 23/50\n",
      "196/196 [==============================] - 7s 38ms/step - loss: 2.2136 - accuracy: 0.4194 - val_loss: 2.1333 - val_accuracy: 0.4387\n",
      "Epoch 24/50\n",
      "196/196 [==============================] - 6s 32ms/step - loss: 2.1483 - accuracy: 0.4214 - val_loss: 2.0702 - val_accuracy: 0.4487\n",
      "Epoch 25/50\n",
      "196/196 [==============================] - 6s 32ms/step - loss: 2.0935 - accuracy: 0.4249 - val_loss: 2.0237 - val_accuracy: 0.4527\n",
      "Epoch 26/50\n",
      "196/196 [==============================] - 6s 31ms/step - loss: 2.0503 - accuracy: 0.4226 - val_loss: 1.9800 - val_accuracy: 0.4495\n",
      "Epoch 27/50\n",
      "196/196 [==============================] - 7s 34ms/step - loss: 2.0065 - accuracy: 0.4277 - val_loss: 1.9389 - val_accuracy: 0.4572\n",
      "Epoch 28/50\n",
      "196/196 [==============================] - 6s 31ms/step - loss: 1.9734 - accuracy: 0.4286 - val_loss: 1.9101 - val_accuracy: 0.4515\n",
      "Epoch 29/50\n",
      "196/196 [==============================] - 7s 35ms/step - loss: 1.9408 - accuracy: 0.4309 - val_loss: 1.8838 - val_accuracy: 0.4589\n",
      "Epoch 30/50\n",
      "196/196 [==============================] - 9s 45ms/step - loss: 1.9181 - accuracy: 0.4307 - val_loss: 1.8678 - val_accuracy: 0.4489\n",
      "Epoch 31/50\n",
      "196/196 [==============================] - 7s 35ms/step - loss: 1.8958 - accuracy: 0.4336 - val_loss: 1.8377 - val_accuracy: 0.4591\n",
      "Epoch 32/50\n",
      "196/196 [==============================] - 7s 34ms/step - loss: 1.8776 - accuracy: 0.4334 - val_loss: 1.8316 - val_accuracy: 0.4557\n",
      "Epoch 33/50\n",
      "196/196 [==============================] - 6s 33ms/step - loss: 1.8593 - accuracy: 0.4370 - val_loss: 1.8075 - val_accuracy: 0.4647\n",
      "Epoch 34/50\n",
      "196/196 [==============================] - 7s 35ms/step - loss: 1.8469 - accuracy: 0.4390 - val_loss: 1.8036 - val_accuracy: 0.4578\n",
      "Epoch 35/50\n",
      "196/196 [==============================] - 8s 39ms/step - loss: 1.8313 - accuracy: 0.4387 - val_loss: 1.7824 - val_accuracy: 0.4623\n",
      "Epoch 36/50\n",
      "196/196 [==============================] - 7s 35ms/step - loss: 1.8210 - accuracy: 0.4418 - val_loss: 1.7861 - val_accuracy: 0.4569\n",
      "Epoch 37/50\n",
      "196/196 [==============================] - 6s 31ms/step - loss: 1.8114 - accuracy: 0.4442 - val_loss: 1.7675 - val_accuracy: 0.4602\n",
      "Epoch 38/50\n",
      "196/196 [==============================] - 6s 30ms/step - loss: 1.8045 - accuracy: 0.4423 - val_loss: 1.7578 - val_accuracy: 0.4653\n",
      "Epoch 39/50\n",
      "196/196 [==============================] - 6s 30ms/step - loss: 1.7970 - accuracy: 0.4429 - val_loss: 1.7506 - val_accuracy: 0.4657\n",
      "Epoch 40/50\n",
      "196/196 [==============================] - 6s 31ms/step - loss: 1.7903 - accuracy: 0.4467 - val_loss: 1.7576 - val_accuracy: 0.4598\n",
      "Epoch 41/50\n",
      "196/196 [==============================] - 6s 31ms/step - loss: 1.7860 - accuracy: 0.4451 - val_loss: 1.7393 - val_accuracy: 0.4711\n",
      "Epoch 42/50\n",
      "196/196 [==============================] - 6s 32ms/step - loss: 1.7813 - accuracy: 0.4451 - val_loss: 1.7373 - val_accuracy: 0.4730\n",
      "Epoch 43/50\n",
      "196/196 [==============================] - 6s 31ms/step - loss: 1.7721 - accuracy: 0.4488 - val_loss: 1.7366 - val_accuracy: 0.4692\n",
      "Epoch 44/50\n",
      "196/196 [==============================] - 7s 38ms/step - loss: 1.7689 - accuracy: 0.4505 - val_loss: 1.7323 - val_accuracy: 0.4733\n",
      "Epoch 45/50\n",
      "196/196 [==============================] - 8s 39ms/step - loss: 1.7664 - accuracy: 0.4519 - val_loss: 1.7244 - val_accuracy: 0.4741\n",
      "Epoch 46/50\n",
      "196/196 [==============================] - 6s 32ms/step - loss: 1.7624 - accuracy: 0.4509 - val_loss: 1.7255 - val_accuracy: 0.4680\n",
      "Epoch 47/50\n",
      "196/196 [==============================] - 7s 36ms/step - loss: 1.7600 - accuracy: 0.4515 - val_loss: 1.7174 - val_accuracy: 0.4719\n",
      "Epoch 48/50\n"
     ]
    },
    {
     "name": "stdout",
     "output_type": "stream",
     "text": [
      "196/196 [==============================] - 9s 44ms/step - loss: 1.7570 - accuracy: 0.4517 - val_loss: 1.7192 - val_accuracy: 0.4712\n",
      "Epoch 49/50\n",
      "196/196 [==============================] - 8s 39ms/step - loss: 1.7516 - accuracy: 0.4556 - val_loss: 1.7175 - val_accuracy: 0.4722\n",
      "Epoch 50/50\n",
      "196/196 [==============================] - 7s 35ms/step - loss: 1.7519 - accuracy: 0.4533 - val_loss: 1.7201 - val_accuracy: 0.4702\n"
     ]
    }
   ],
   "source": [
    "results = {}\n",
    "\"\"\"Code Here\n",
    "撰寫你的訓練流程並將結果用 dictionary 紀錄\n",
    "\"\"\"\n",
    "model = build_mlp(input_shape=x_train.shape[1:], l1_l2_ratio=L1_L2_EXP, drp_ratio=Dropout_EXP)\n",
    "model.summary()\n",
    "optimizer = keras.optimizers.SGD(lr=LEARNING_RATE, nesterov=True, momentum=MOMENTUM)\n",
    "model.compile(loss=\"categorical_crossentropy\", metrics=[\"accuracy\"], optimizer=optimizer)\n",
    "\n",
    "model.fit(x_train, y_train, \n",
    "          epochs=EPOCHS, \n",
    "          batch_size=BATCH_SIZE, \n",
    "          validation_data=(x_test, y_test), \n",
    "          shuffle=True)\n",
    "\n",
    "# Collect results\n",
    "train_loss = model.history.history[\"loss\"]\n",
    "valid_loss = model.history.history[\"val_loss\"]\n",
    "train_acc = model.history.history[\"accuracy\"]\n",
    "valid_acc = model.history.history[\"val_accuracy\"]"
   ]
  },
  {
   "cell_type": "code",
   "execution_count": 36,
   "metadata": {},
   "outputs": [
    {
     "data": {
      "image/png": "[encoded data removed]",
      "text/plain": [
       "<Figure size 432x288 with 1 Axes>"
      ]
     },
     "metadata": {
      "needs_background": "light"
     },
     "output_type": "display_data"
    },
    {
     "data": {
      "image/png": "[encoded data removed]",
      "text/plain": [
       "<Figure size 432x288 with 1 Axes>"
      ]
     },
     "metadata": {
      "needs_background": "light"
     },
     "output_type": "display_data"
    }
   ],
   "source": [
    "import matplotlib.pyplot as plt\n",
    "%matplotlib inline\n",
    "\"\"\"Code Here\n",
    "將結果繪出\n",
    "\"\"\"\n",
    "plt.plot(range(len(train_loss)), train_loss, label=\"train loss\")\n",
    "plt.plot(range(len(valid_loss)), valid_loss, label=\"valid loss\")\n",
    "plt.legend()\n",
    "plt.title(\"Loss\")\n",
    "plt.show()\n",
    "\n",
    "plt.plot(range(len(train_acc)), train_acc, label=\"train accuracy\")\n",
    "plt.plot(range(len(valid_acc)), valid_acc, label=\"valid accuracy\")\n",
    "plt.legend()\n",
    "plt.title(\"Accuracy\")\n",
    "plt.show()"
   ]
  }
 ],
 "metadata": {
  "kernelspec": {
   "display_name": "Python 3",
   "language": "python",
   "name": "python3"
  },
  "language_info": {
   "codemirror_mode": {
    "name": "ipython",
    "version": 3
   },
   "file_extension": ".py",
   "mimetype": "text/x-python",
   "name": "python",
   "nbconvert_exporter": "python",
   "pygments_lexer": "ipython3",
   "version": "3.8.3"
  }
 },
 "nbformat": 4,
 "nbformat_minor": 2
}
